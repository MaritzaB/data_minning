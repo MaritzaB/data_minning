{
 "cells": [
  {
   "cell_type": "markdown",
   "metadata": {},
   "source": [
    "# Ejercicios del capítulo 3\n",
    "Ejercicios del 1-11 y 13"
   ]
  },
  {
   "cell_type": "markdown",
   "metadata": {},
   "source": [
    "3.1 La calidad de los datos se puede evaluar en términos de varias cuestiones, incluidas la precisión, la integridad y la coherencia. Para cada una de las tres cuestiones anteriores, analice cómo la evaluación de la calidad de los datos puede depender del uso previsto de los datos, dando ejemplos. Proponer otras dos dimensiones de la calidad de los datos."
   ]
  },
  {
   "cell_type": "markdown",
   "metadata": {},
   "source": []
  },
  {
   "cell_type": "markdown",
   "metadata": {},
   "source": [
    "3.2 En los datos del mundo real, las tuplas con valores faltantes para algunos atributos son algo común. Describa varios métodos para manejar este problema."
   ]
  },
  {
   "cell_type": "markdown",
   "metadata": {},
   "source": []
  },
  {
   "cell_type": "markdown",
   "metadata": {},
   "source": [
    "3.3 El ejercicio 2.2 proporcionó los siguientes datos (en orden creciente) para\n",
    "el atributo edad: `13, 15, 16, 16, 19, 20, 20, 21, 22, 22, 25, 25, 25, 25, 30,\n",
    "33, 33, 35, 35, 35, 35, 36, 40, 45, 46, 52, 70`.\n",
    "\n",
    "1. Utilice el suavizado por medios bin para suavizar estos datos, utilizando\n",
    "una profundidad bin de 3. Ilustre sus pasos. Comente sobre el efecto de esta\n",
    "técnica para los datos dados."
   ]
  },
  {
   "cell_type": "code",
   "execution_count": 21,
   "metadata": {},
   "outputs": [
    {
     "name": "stdout",
     "output_type": "stream",
     "text": [
      "bin_01:  [14.666666666666666, 14.666666666666666, 14.666666666666666]\n",
      "bin_02:  [18.333333333333332, 18.333333333333332, 18.333333333333332]\n",
      "bin_03:  [21.0, 21.0, 21.0]\n",
      "bin_04:  [24.0, 24.0, 24.0]\n",
      "bin_05:  [26.666666666666668, 26.666666666666668, 26.666666666666668]\n",
      "bin_06:  [33.666666666666664, 33.666666666666664, 33.666666666666664]\n",
      "bin_07:  [35.0, 35.0, 35.0]\n",
      "bin_08:  [40.333333333333336, 40.333333333333336, 40.333333333333336]\n",
      "bin_09:  [56.0, 56.0, 56.0]\n"
     ]
    }
   ],
   "source": [
    "age = [ 13, 15, 16, 16, 19, 20, 20, 21, 22, 22, 25, 25, 25, 25, 30, 33, 33, 35, 35, 35, 35, 36, 40, 45, 46, 52, 70 ]\n",
    "\n",
    "# Paso 1. Ordenar los datos de menor a mayor\n",
    "# Paso 2. Dividir los datos en bins de 3 datos\n",
    "\n",
    "bin_01 = age[0:3]\n",
    "bin_02 = age[3:6]\n",
    "bin_03 = age[6:9]\n",
    "bin_04 = age[9:12]\n",
    "bin_05 = age[12:15]\n",
    "bin_06 = age[15:18]\n",
    "bin_07 = age[18:21]\n",
    "bin_08 = age[21:24]\n",
    "bin_09 = age[24:27]\n",
    "\n",
    "# Paso 3. Calcular la media aritmerica de cada bin\n",
    "\n",
    "bin_01_mean = sum(bin_01)/len(bin_01)\n",
    "bin_02_mean = sum(bin_02)/len(bin_02)\n",
    "bin_03_mean = sum(bin_03)/len(bin_03)\n",
    "bin_04_mean = sum(bin_04)/len(bin_04)\n",
    "bin_05_mean = sum(bin_05)/len(bin_05)\n",
    "bin_06_mean = sum(bin_06)/len(bin_06)\n",
    "bin_07_mean = sum(bin_07)/len(bin_07)\n",
    "bin_08_mean = sum(bin_08)/len(bin_08)\n",
    "bin_09_mean = sum(bin_09)/len(bin_09)\n",
    "\n",
    "# Paso 4. Reeplazar los datos de cada bin por la media aritmetica\n",
    "\n",
    "bin_01 = [bin_01_mean, bin_01_mean, bin_01_mean]\n",
    "bin_02 = [bin_02_mean, bin_02_mean, bin_02_mean]\n",
    "bin_03 = [bin_03_mean, bin_03_mean, bin_03_mean]\n",
    "bin_04 = [bin_04_mean, bin_04_mean, bin_04_mean]\n",
    "bin_05 = [bin_05_mean, bin_05_mean, bin_05_mean]\n",
    "bin_06 = [bin_06_mean, bin_06_mean, bin_06_mean]\n",
    "bin_07 = [bin_07_mean, bin_07_mean, bin_07_mean]\n",
    "bin_08 = [bin_08_mean, bin_08_mean, bin_08_mean]\n",
    "bin_09 = [bin_09_mean, bin_09_mean, bin_09_mean]\n",
    "\n",
    "# Paso 5. Unir los datos de cada bin en un solo vector\n",
    "\n",
    "print( 'bin_01: ', bin_01 )\n",
    "print( 'bin_02: ', bin_02 )\n",
    "print( 'bin_03: ', bin_03 )\n",
    "print( 'bin_04: ', bin_04 )\n",
    "print( 'bin_05: ', bin_05 )\n",
    "print( 'bin_06: ', bin_06 )\n",
    "print( 'bin_07: ', bin_07 )\n",
    "print( 'bin_08: ', bin_08 )\n",
    "print( 'bin_09: ', bin_09 )\n",
    "\n",
    "# Este método suaviza los datos, pero no es muy eficiente, ya que se pierde\n",
    "# información de los datos originales. Además, no es muy eficiente, ya que\n",
    "# se requiere un proceso manual para cada bin.\n"
   ]
  },
  {
   "cell_type": "markdown",
   "metadata": {},
   "source": [
    "2. ¿Cómo podría determinar los valores atípicos en los datos?\n",
    "\n",
    "Los valores atípicos pueden detectarse con _clustering_, dónde los valores\n",
    "similares se agrupen en _clusters_ y los valores que no se agrupen en ningún\n",
    "_cluster_ pueden considerarse atípicos."
   ]
  },
  {
   "cell_type": "markdown",
   "metadata": {},
   "source": [
    "3. ¿Qué otros métodos existen para suavizar los datos?\n",
    "\n",
    "    **1. Promedio móvil (Moving Average):**\n",
    "    \n",
    "    - _Promedio simple_: Calcula el promedio de un conjunto de puntos de datos\n",
    "    adyacentes para suavizar los valores.\n",
    "    \n",
    "    - _Promedio ponderado_: Asigna pesos diferentes a los puntos de datos, lo que\n",
    "    puede dar más importancia a algunos valores sobre otros.\n",
    "    \n",
    "    **2. Suavizado exponencial (Exponential Smoothing):**\n",
    "    \n",
    "    - _Suavizado exponencial simple_: Asigna un peso exponencialmente decreciente a los\n",
    "    valores pasados para dar más importancia a los datos recientes.\n",
    "    \n",
    "    - _Suavizado exponencial doble_: Utiliza dos niveles de suavizado para manejar\n",
    "    datos con tendencias y estacionalidad.\n",
    "    \n",
    "    - _Suavizado exponencial triple_: Añade un tercer nivel de suavizado para\n",
    "    manejar datos con tendencia, estacionalidad y componentes de error.\n",
    "    \n",
    "    **3. Suavizado de ventanas (Window Smoothing):**\n",
    "    \n",
    "    - _Media móvil ponderada_: Similar al promedio móvil, pero utiliza una ventana\n",
    "    de tiempo ponderada para calcular el promedio.\n",
    "    \n",
    "    - _Suavizado de Kernell (Kernel Smoothing)_: Utiliza una función de núcleo (kernel)\n",
    "    para suavizar los datos, como el suavizado gaussiano.\n",
    "    \n",
    "    **4. Regresión local (Local Regression):**\n",
    "    \n",
    "    - _Regresión lineal local_: Ajusta una regresión lineal a una pequeña ventana de datos en torno a cada punto para estimar el valor suavizado.\n",
    "    \n",
    "    - _Splines suaves_: Utiliza polinomios suaves para ajustar datos en segmentos locales.\n",
    "    \n",
    "    **5. Suavizado de Fourier:**\n",
    "    \n",
    "    Utiliza la transformada de Fourier para filtrar componentes de alta frecuencia y suavizar los datos.\n",
    "    \n",
    "    **6. Suavizado de wavelets:**\n",
    "    \n",
    "    Utiliza wavelets para descomponer los datos en diferentes escalas y suavizarlos en función de la escala deseada."
   ]
  },
  {
   "cell_type": "markdown",
   "metadata": {},
   "source": [
    "3.4 Debatir cuestiones a considerar durante la integración de datos.\n",
    "\n",
    "---\n",
    "La integración de datos es un proceso que si no se realiza correctamente puede\n",
    "llevarnos a obtener resultados erróneos en los análisis que realicemos. Por este\n",
    "motivo, es importante tener en cuenta ciertas cuestiones durante el proceso, por\n",
    "ejemplo:\n",
    "\n",
    "- **Consistencia de los datos:** Los datos deben ser consistentes entre sí, es\n",
    "  decir, que en diferentes fuentes de datos, los datos que representan el mismo\n",
    "  objeto deben ser iguales. Por ejemplo, si tenemos una base de datos de\n",
    "  clientes y otra de productos, y en ambas bases de datos tenemos un campo que\n",
    "  es el código de cliente, el código de cliente debe ser el mismo en ambas.\n",
    "\n",
    "- **Identificación de duplicados:** Los valores duplicados nos pueden llevar a\n",
    "    estádisticas erróneas en el análisis general de los datos.\n",
    "\n",
    "- **Normalización de los datos:** Esto quiere decir que los datos deben de estar\n",
    "  en el mismo formato.\n",
    "\n",
    "- **Gestión de cambios:** Los datos pueden cambiar con el tiempo, por lo que\n",
    "  debemos tener en cuenta la gestión de estos cambios para que no afecten a la\n",
    "  integridad de los mismos.\n",
    "\n",
    "- **Escalabilidad:** Esto quiere decir que se debe de llevar a cabo un buen\n",
    "  diseño de la base de datos para que esta sea escalable, es decir, que se\n",
    "  pueda ampliar en el futuro sin que esto afecte a la integridad de los datos.\n",
    "\n",
    "- **Seguridad:** Los datos deben de estar protegidos para que no puedan ser\n",
    "    modificados por usuarios no autorizados.\n"
   ]
  },
  {
   "cell_type": "markdown",
   "metadata": {},
   "source": [
    "3.5 ¿Cuáles son los rangos de valores de los siguientes métodos de\n",
    "normalización?\n",
    "\n",
    "1. Normalización mín-máx\n",
    "\n",
    "1. Normalización de puntuación z\n",
    "\n",
    "1. Normalización del puntaje z utilizando la desviación absoluta media en lugar\n",
    "de la desviación estándar\n",
    "\n",
    "1. Normalización mediante escala decimal"
   ]
  },
  {
   "cell_type": "markdown",
   "metadata": {},
   "source": []
  },
  {
   "cell_type": "markdown",
   "metadata": {},
   "source": [
    "3.6 Utilice estos métodos para normalizar el siguiente grupo de datos:\n",
    "`200, 300, 400, 600, 1000`.\n",
    "\n",
    "1. Normalización min-max estableciendo min = 0 y max = 1\n",
    "\n",
    "1. Normalización de puntuación z\n",
    "\n",
    "1. Normalización del puntaje z utilizando la desviación absoluta media en lugar\n",
    "   de la desviación estándar\n",
    "\n",
    "1. Normalización mediante escala decimal\n"
   ]
  },
  {
   "cell_type": "markdown",
   "metadata": {},
   "source": []
  },
  {
   "cell_type": "markdown",
   "metadata": {},
   "source": [
    "3.7 Utilizando los datos de edad proporcionados en el ejercicio 3.3, responda lo siguiente:\n",
    "1.  Utilice la normalización min-max para transformar el valor `35` para la edad\n",
    "    en el rango `[0,0,1,0]`.\n",
    "\n",
    "1.  Utilice la normalización de puntuación `z` para transformar el valor `35`\n",
    "    para la edad, donde la desviación estándar de la edad es `12.94` años.\n",
    "\n",
    "1.  Utilice la normalización mediante escala decimal para transformar el valor\n",
    "    `35` para la edad.\n",
    "\n",
    "1.  Comente qué método preferiría utilizar para los datos proporcionados,\n",
    "    explicando el motivo.\n"
   ]
  },
  {
   "cell_type": "markdown",
   "metadata": {},
   "source": []
  },
  {
   "cell_type": "markdown",
   "metadata": {},
   "source": [
    "3.8 Utilizando los datos de edad y grasa corporal proporcionados en el ejercicio 2.4, responda lo siguiente:\n",
    "1.  Normalice los dos atributos según la normalización de la puntuación `z`.\n",
    "\n",
    "1.  Calcule el coeficiente de correlación (coeficiente de momento del producto de Pearson). ¿Están estos dos atributos correlacionados positiva o negativamente? Calcule su covarianza."
   ]
  },
  {
   "cell_type": "markdown",
   "metadata": {},
   "source": [
    "3.9 Supongamos que un grupo de 12 registros de precios de venta se ha ordenado\n",
    "de la siguiente manera: `5,10,11,13,15,35,50,55,72,92,204,215`.\n",
    "\n",
    "Divídalos en tres contenedores mediante cada uno de los siguientes métodos:\n",
    "1.  Partición de igual frecuencia (igual profundidad)\n",
    "\n",
    "1.  Partición de igual ancho\n",
    "\n",
    "1.  Agrupación"
   ]
  },
  {
   "cell_type": "markdown",
   "metadata": {},
   "source": [
    "3.10 Utilice un diagrama de flujo para resumir los siguientes procedimientos para la selección de subconjuntos de atributos:\n",
    "1. Selección paso a paso hacia adelante\n",
    "\n",
    "1. Eliminación gradual hacia atrás\n",
    "\n",
    "1. Una combinación de selección hacia adelante y eliminación hacia atrás\n"
   ]
  },
  {
   "cell_type": "markdown",
   "metadata": {},
   "source": [
    "3.11 Usando los datos para la edad dados en el ejercicio 3.3,\n",
    "1. Trace un histograma de igual ancho de 10.\n",
    "\n",
    "1. Esboce ejemplos de cada una de las siguientes técnicas de muestreo: SRSWOR,\n",
    "   SRSWR, muestreo por conglomerados y muestreo estratificado. Utilice muestras\n",
    "   de tamaño 5 y los estratos “jóvenes”, “de mediana edad” y “mayores”.\n"
   ]
  },
  {
   "cell_type": "markdown",
   "metadata": {},
   "source": [
    "3.13 Propón un algoritmo, en pseudocódigo o en su lenguaje de programación favorito, para lo siguiente:\n",
    "1. La generación automática de una jerarquía de conceptos para datos nominales\n",
    "   basada en el número de valores distintos de atributos en el esquema dado.\n",
    "\n",
    "1.  La generación automática de una jerarquía de conceptos para datos numéricos\n",
    "    basada en la regla de partición de igual ancho.\n",
    "    \n",
    "1. La generación automática de una jerarquía de conceptos para datos numéricos\n",
    "   basada en la regla de partición de igual frecuencia.\n"
   ]
  }
 ],
 "metadata": {
  "kernelspec": {
   "display_name": "Python 3 (ipykernel)",
   "language": "python",
   "name": "python3"
  },
  "language_info": {
   "codemirror_mode": {
    "name": "ipython",
    "version": 3
   },
   "file_extension": ".py",
   "mimetype": "text/x-python",
   "name": "python",
   "nbconvert_exporter": "python",
   "pygments_lexer": "ipython3",
   "version": "3.10.12"
  },
  "orig_nbformat": 4
 },
 "nbformat": 4,
 "nbformat_minor": 2
}
