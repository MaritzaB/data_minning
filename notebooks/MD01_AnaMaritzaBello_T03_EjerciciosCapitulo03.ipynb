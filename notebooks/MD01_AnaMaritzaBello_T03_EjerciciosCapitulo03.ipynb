{
 "cells": [
  {
   "cell_type": "markdown",
   "metadata": {},
   "source": [
    "# Ejercicios del capítulo 3\n",
    "Ejercicios del 1-11 y 13"
   ]
  },
  {
   "cell_type": "markdown",
   "metadata": {},
   "source": [
    "3.1 La calidad de los datos se puede evaluar en términos de varias cuestiones, incluidas la precisión, la integridad y la coherencia. Para cada una de las tres cuestiones anteriores, analice cómo la evaluación de la calidad de los datos puede depender del uso previsto de los datos, dando ejemplos. Proponer otras dos dimensiones de la calidad de los datos."
   ]
  },
  {
   "cell_type": "markdown",
   "metadata": {},
   "source": [
    "3.2 En los datos del mundo real, las tuplas con valores faltantes para algunos atributos son algo común. Describa varios métodos para manejar este problema."
   ]
  },
  {
   "cell_type": "markdown",
   "metadata": {},
   "source": [
    "3.3 El ejercicio 2.2 proporcionó los siguientes datos (en orden creciente) para\n",
    "el atributo edad: `13, 15, 16, 16, 19, 20, 20, 21, 22, 22, 25, 25, 25, 25, 30,\n",
    "33, 33, 35, 35, 35, 35, 36, 40, 45, 46, 52, 70`.\n",
    "\n",
    "1. Utilice el suavizado por medios bin para suavizar estos datos, utilizando\n",
    "una profundidad bin de 3. Ilustre sus pasos. Comente sobre el efecto de esta\n",
    "técnica para los datos dados.\n",
    "1. ¿Cómo podría determinar los valores atípicos en los datos?\n",
    "1. ¿Qué otros métodos existen para suavizar los datos?"
   ]
  },
  {
   "cell_type": "markdown",
   "metadata": {},
   "source": [
    "3.4 Debatir cuestiones a considerar durante la integración de datos."
   ]
  },
  {
   "cell_type": "markdown",
   "metadata": {},
   "source": [
    "3.5 ¿Cuáles son los rangos de valores de los siguientes métodos de\n",
    "normalización?\n",
    "\n",
    "1. Normalización mín-máx\n",
    "\n",
    "1. Normalización de puntuación z\n",
    "\n",
    "1. Normalización del puntaje z utilizando la desviación absoluta media en lugar\n",
    "de la desviación estándar\n",
    "\n",
    "1. Normalización mediante escala decimal"
   ]
  },
  {
   "cell_type": "markdown",
   "metadata": {},
   "source": [
    "3.6 Utilice estos métodos para normalizar el siguiente grupo de datos:\n",
    "`200, 300, 400, 600, 1000`.\n",
    "\n",
    "1. Normalización min-max estableciendo min = 0 y max = 1\n",
    "\n",
    "1. Normalización de puntuación z\n",
    "\n",
    "1. Normalización del puntaje z utilizando la desviación absoluta media en lugar\n",
    "   de la desviación estándar\n",
    "\n",
    "1. Normalización mediante escala decimal\n"
   ]
  },
  {
   "cell_type": "markdown",
   "metadata": {},
   "source": [
    "3.7 Utilizando los datos de edad proporcionados en el ejercicio 3.3, responda lo siguiente:\n",
    "1.  Utilice la normalización min-max para transformar el valor `35` para la edad\n",
    "    en el rango `[0,0,1,0]`.\n",
    "\n",
    "1.  Utilice la normalización de puntuación `z` para transformar el valor `35`\n",
    "    para la edad, donde la desviación estándar de la edad es `12.94` años.\n",
    "\n",
    "1.  Utilice la normalización mediante escala decimal para transformar el valor\n",
    "    `35` para la edad.\n",
    "\n",
    "1.  Comente qué método preferiría utilizar para los datos proporcionados,\n",
    "    explicando el motivo.\n"
   ]
  },
  {
   "cell_type": "markdown",
   "metadata": {},
   "source": [
    "3.8 Utilizando los datos de edad y grasa corporal proporcionados en el ejercicio 2.4, responda lo siguiente:\n",
    "1.  Normalice los dos atributos según la normalización de la puntuación `z`.\n",
    "\n",
    "1.  Calcule el coeficiente de correlación (coeficiente de momento del producto de Pearson). ¿Están estos dos atributos correlacionados positiva o negativamente? Calcule su covarianza."
   ]
  },
  {
   "cell_type": "markdown",
   "metadata": {},
   "source": [
    "3.9 Supongamos que un grupo de 12 registros de precios de venta se ha ordenado\n",
    "de la siguiente manera: `5,10,11,13,15,35,50,55,72,92,204,215`.\n",
    "\n",
    "Divídalos en tres contenedores mediante cada uno de los siguientes métodos:\n",
    "1.  Partición de igual frecuencia (igual profundidad)\n",
    "\n",
    "1.  Partición de igual ancho\n",
    "\n",
    "1.  Agrupación"
   ]
  },
  {
   "cell_type": "markdown",
   "metadata": {},
   "source": [
    "3.10 Utilice un diagrama de flujo para resumir los siguientes procedimientos para la selección de subconjuntos de atributos:\n",
    "1. Selección paso a paso hacia adelante\n",
    "\n",
    "1. Eliminación gradual hacia atrás\n",
    "\n",
    "1. Una combinación de selección hacia adelante y eliminación hacia atrás\n"
   ]
  },
  {
   "cell_type": "markdown",
   "metadata": {},
   "source": [
    "3.11 Usando los datos para la edad dados en el ejercicio 3.3,\n",
    "1. Trace un histograma de igual ancho de 10.\n",
    "\n",
    "1. Esboce ejemplos de cada una de las siguientes técnicas de muestreo: SRSWOR,\n",
    "   SRSWR, muestreo por conglomerados y muestreo estratificado. Utilice muestras\n",
    "   de tamaño 5 y los estratos “jóvenes”, “de mediana edad” y “mayores”.\n"
   ]
  },
  {
   "cell_type": "markdown",
   "metadata": {},
   "source": [
    "3.13 Propón un algoritmo, en pseudocódigo o en su lenguaje de programación favorito, para lo siguiente:\n",
    "1. La generación automática de una jerarquía de conceptos para datos nominales\n",
    "   basada en el número de valores distintos de atributos en el esquema dado.\n",
    "\n",
    "1.  La generación automática de una jerarquía de conceptos para datos numéricos\n",
    "    basada en la regla de partición de igual ancho.\n",
    "    \n",
    "1. La generación automática de una jerarquía de conceptos para datos numéricos\n",
    "   basada en la regla de partición de igual frecuencia.\n"
   ]
  }
 ],
 "metadata": {
  "language_info": {
   "name": "python"
  },
  "orig_nbformat": 4
 },
 "nbformat": 4,
 "nbformat_minor": 2
}
