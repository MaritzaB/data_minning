{
 "cells": [
  {
   "cell_type": "markdown",
   "metadata": {},
   "source": [
    "Instituto Politécnico Nacional\n",
    "\n",
    "Centro de Investigación en Computación\n",
    "\n",
    "Minería de datos I\n",
    "\n",
    "Ejercicios del capítulo 6.\n",
    "\n",
    "Ejercicios 1,2,3,4,5,6,8,9,10 y 11.\n",
    "\n",
    "Presenta: Ana Maritza Bello\n",
    "\n",
    "---"
   ]
  },
  {
   "cell_type": "markdown",
   "metadata": {},
   "source": [
    "6.1 Suponga que tiene el conjunto `C` de todos los conjuntos de elementos\n",
    "cerrados con frecuencia en un conjunto de datos `D`, así como el recuento de\n",
    "soporte para cada conjunto de elementos cerrados con frecuencia. Describa un\n",
    "algoritmo para determinar si un determinado conjunto de elementos `X` es\n",
    "frecuente o no, y el soporte de `X` si es frecuente."
   ]
  },
  {
   "cell_type": "markdown",
   "metadata": {},
   "source": [
    "6.2 Un conjunto de elementos _X_ se denomina generador en un conjunto de datos\n",
    "_D_ si no existe un subconjunto de elementos adecuado _Y ⊂ X_ tal que\n",
    "_support(X) = support(Y)_. Un generador _X_ es un generador frecuente si el\n",
    "_support (X)_ supera el umbral mínimo de soporte. Sea _G_ el conjunto de todos\n",
    "los generadores frecuentes en un conjunto de datos _D_.\n",
    "\n",
    "(a) ¿Puede determinar si un conjunto de elementos _A_ es frecuente y el soporte\n",
    "de _A_, si es frecuente, utilizando solo _G_ y los recuentos de soporte de todos\n",
    "los generadores frecuentes? En caso afirmativo, presente su algoritmo. De lo\n",
    "contrario, ¿qué otra información se necesita? ¿Puede darnos un algoritmo\n",
    "suponiendo que la información necesaria esté disponible?\n",
    "\n",
    "(b) ¿Cuál es la relación entre conjuntos de elementos cerrados y generadores?"
   ]
  },
  {
   "cell_type": "markdown",
   "metadata": {},
   "source": [
    "6.3 El algoritmo a priori hace uso del conocimiento previo de las propiedades de\n",
    "soporte de subconjuntos.\n",
    "\n",
    "(a) Demuestre que todos los subconjuntos no vacíos de un conjunto de elementos\n",
    "frecuentes también deben ser frecuentes.\n",
    "\n",
    "(b) Demuestre que el soporte de cualquier subconjunto no vacío _s'_ del conjunto\n",
    "de elementos _s_ debe ser al menos tan grande como el soporte de _s_.\n",
    "\n",
    "(c) Dado el conjunto de ítems frecuentes _l_ y el subconjunto _s_ de _l_,\n",
    "demuestre que la confianza de la regla _\"s 0 ⇒ (l − s 0 )\"_ no puede ser mayor\n",
    "que la confianza de _\"s ⇒ (l − s)\"_, donde _s'_ es un subconjunto de _s_.\n",
    "\n",
    "(d) Una variación de partición de Apriori subdivide las transacciones de una\n",
    "base de datos _D_ en n particiones que no se superponen. Demuestre que cualquier\n",
    "conjunto de elementos que sea frecuente en _D_ debe ser frecuente en al menos\n",
    "una partición de _D_."
   ]
  },
  {
   "cell_type": "markdown",
   "metadata": {},
   "source": [
    "6.4 Sea _c_ un conjunto de elementos candidatos en *C_k* generado por el\n",
    "algoritmo Apriori. ¿Cuántos subconjuntos de longitud *(k − 1)* necesitamos\n",
    "verificar en el paso de poda? Según su respuesta anterior, ¿puede proporcionar\n",
    "una versión mejorada del procedimiento que tiene un subconjunto poco frecuente\n",
    "en la Figura 6.4?"
   ]
  },
  {
   "cell_type": "markdown",
   "metadata": {},
   "source": [
    "6.5 La sección 6.2.2 describe un método para generar *reglas de asociación* a\n",
    "partir de conjuntos de elementos frecuentes. Proponer un método más eficiente.\n",
    "Explique por qué es más eficiente que el allí propuesto. (Sugerencia: considere\n",
    "incorporar las propiedades de los Ejercicios 6.3(b), (c) en su diseño.)"
   ]
  },
  {
   "cell_type": "markdown",
   "metadata": {},
   "source": [
    "6.6 A database has five transactions. Let *min_sup = 60%* and *min_conf = 80%*.\n",
    "\n",
    "| TID | Items bought |\n",
    "|-----|--------------|\n",
    "| T100 | M,O,N,K,E,Y   |\n",
    "| T200 | D,O,N,K,E,Y   |\n",
    "| T300 | M,A,K,E       |\n",
    "| T400 | M,U,C,K,Y     |\n",
    "| T500 | C,O,O,K,I,E   |\n",
    "\n",
    "(a) Encuentre todos los conjuntos de elementos frecuentes utilizando Apriori y\n",
    "FP-growth, respectivamente. Compare la eficiencia de los dos procesos de\n",
    "minería.\n",
    "\n",
    "(b) Enumere todas las reglas de asociación fuerte (con apoyo *s* y confianza\n",
    "*c*) que coincidan con la siguiente metaregla, donde *X* es una variable que\n",
    "representa a los clientes y itemi denota variables que representan artículos\n",
    "(por ejemplo, *“A”*, *“B”*):\n",
    "\n",
    "*∀ x ∈ transaction, buys(X, item1 ) ∧ buys(X, item2 ) ⇒ buys(X, item3 )* *[s, c]*"
   ]
  },
  {
   "cell_type": "markdown",
   "metadata": {},
   "source": [
    "6.8 Una base de datos tiene cuatro transacciones. Sean *min_sup = 60% y min_conf\n",
    "= 80%*.\n",
    "\n",
    "| cust_ID | TID | Items bought (in the form of *brand-item-category*)|\n",
    "|---------|-----|------------------------------------------------------|\n",
    "|01 | T100 | *{King’s-Crab, Sunset-Milk, Dairyland-Cheese, Best-Bread}* |\n",
    "|02 | T200 | *{Best-Cheese, Dairyland-Milk, Goldenfarm-Apple, Tasty-Pie, Wonder-Bread}* |\n",
    "|01 | T300 | *{Westcoast-Apple, Dairyland-Milk, Wonder-Bread, Tasty-Pie}* |\n",
    "|03 | T400 | *{Wonder-Bread, Sunset-Milk, Dairyland-Cheese}* |\n",
    "\n",
    "(a) En la granularidad de la categoría de *artículo* (por ejemplo, item_i podría\n",
    "ser \"Leche\"), para la plantilla de regla, \n",
    "\n",
    "∀ *X* ∈ *transaction, buys(X, item1 )* ∧ *buys(X, item2 )* ⇒ *buys(X, item3 )*\n",
    "[s, c],\n",
    "\n",
    "enumere el conjunto de elementos *k* frecuentes para el *k* más grande, y todas\n",
    "las reglas de asociación fuerte (con su soporte *s* y confianza *c*) que\n",
    "contienen el conjunto de elementos *k* frecuentes para el *k* más grande.\n",
    "\n",
    "(b) En la granularidad de la categoría de *marca-artículo* (por ejemplo, item_i\n",
    "podría ser *\"“Sunset-Milk\"*), para la plantilla de regla,\n",
    "\n",
    "∀ *X* ∈ *customer, buys(X, item1)* ∧ *buys(X, item2)* ⇒ *buys(X, item3)*,\n",
    "\n",
    "enumera el conjunto de *k* elementos frecuentes para el *k* más grande (pero no\n",
    "imprima ninguna regla)."
   ]
  },
  {
   "cell_type": "markdown",
   "metadata": {},
   "source": [
    "6.9 Supongamos que una tienda grande tiene una base de datos transaccional\n",
    "*distribuida* en cuatro ubicaciones. Las transacciones en cada base de datos\n",
    "componente tienen el mismo formato, es decir, *Tj : {i1 , . . . , im }*, donde\n",
    "*T_j* es un identificador de transacción, e *i_k (1 ≤ k ≤ m)* es el\n",
    "identificador de un artículo comprado en la transacción.\n",
    "\n",
    "Proponer un algoritmo eficiente para extraer reglas de asociación global. Puede\n",
    "presentar su algoritmo en forma de esquema. Su algoritmo no debería requerir el\n",
    "envío de todos los datos a un sitio y no debería causar una sobrecarga excesiva\n",
    "de comunicación en la red."
   ]
  },
  {
   "cell_type": "markdown",
   "metadata": {},
   "source": [
    "6.10 Supongamos que se guardan conjuntos de elementos frecuentes para una gran base de datos transaccional, *DB*.\n",
    "\n",
    "¿Discutir cómo extraer eficientemente las reglas de asociación (globales) bajo\n",
    "el mismo umbral mínimo de soporte, si se agrega (incrementalmente) un conjunto\n",
    "de nuevas transacciones, denominadas $$\\Delta DB$$"
   ]
  },
  {
   "cell_type": "markdown",
   "metadata": {},
   "source": [
    "6.11 Los algoritmos de minería de patrones más frecuentes consideran sólo elementos distintos en una transacción. Sin embargo, la aparición múltiple de un artículo en la misma cesta de la compra, como cuatro pasteles y tres jarras de leche, puede ser importante en el análisis de datos transaccionales.\n",
    "¿Cómo se pueden extraer conjuntos de elementos frecuentes de manera eficiente considerando múltiples apariciones de elementos? Proponer modificaciones a los algoritmos conocidos, como Apriori y FP-growth, para adaptarse a tal situación."
   ]
  }
 ],
 "metadata": {
  "language_info": {
   "name": "python"
  }
 },
 "nbformat": 4,
 "nbformat_minor": 2
}
