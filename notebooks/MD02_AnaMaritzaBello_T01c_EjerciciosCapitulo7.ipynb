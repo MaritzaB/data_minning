{
 "cells": [
  {
   "cell_type": "markdown",
   "metadata": {},
   "source": [
    "Instituto Politécnico Nacional\n",
    "\n",
    "Centro de Investigación en Computación\n",
    "\n",
    "Minería de datos I\n",
    "\n",
    "Ejercicios del capítulo 7.\n",
    "\n",
    "Ejercicios 1, 2, 3, 9 y 11.\n",
    "\n",
    "Presenta: Ana Maritza Bello\n",
    "\n",
    "---"
   ]
  },
  {
   "cell_type": "markdown",
   "metadata": {},
   "source": [
    "7.1 Proponer y delinear un enfoque de minería de niveles compartidos para\n",
    "extraer reglas de asociación multinivel en las que cada elemento esté codificado\n",
    "por su posición de nivel. Diseñelo de modo que un escaneo inicial de la base de\n",
    "datos recopile el recuento de cada elemento en cada nivel de concepto,\n",
    "identificando elementos frecuentes y subfrecuentes. Comente sobre el costo de\n",
    "procesamiento de extraer asociaciones multinivel con este método en comparación\n",
    "con la extracción de asociaciones de un solo nivel."
   ]
  },
  {
   "cell_type": "markdown",
   "metadata": {},
   "source": [
    "7.2 Supongamos que, como gerente de una cadena de tiendas, desea utilizar datos transaccionales de ventas para analizar la efectividad de los anuncios de su tienda. En particular, le gustaría estudiar cómo influyen factores específicos en la eficacia de los anuncios que anuncian una categoría particular de artículos en oferta. Los factores a estudiar son la región en la que viven los clientes y el día de la semana y hora del día de los anuncios. Analice cómo diseñar un método eficiente para extraer los conjuntos de datos de transacciones y explique cómo los métodos de minería multidimensional y multinivel pueden ayudarlo a obtener una buena solución."
   ]
  },
  {
   "cell_type": "markdown",
   "metadata": {},
   "source": [
    "7.3 Las reglas de asociación cuantitativa pueden revelar comportamientos excepcionales dentro de un conjunto de datos, donde \"excepcional\" puede definirse con base en la teoría estadística. Por ejemplo, la Sección 7.2.3 muestra la regla de asociación.\n",
    "\n",
    "$$ sexo = mujer ⇒ salario_medio = \\$7.90/h (salario_medio_general = \\$9.02/h ) $$\n",
    "\n",
    "lo que sugiere un patrón excepcional. La norma establece que el salario medio de las mujeres es de sólo 7.90 dólares por hora, lo que es un salario significativamente más bajo que el promedio general de 9.02 dólares por hora. Analice cómo se pueden descubrir dichas reglas cuantitativas de manera sistemática y eficiente en grandes conjuntos de datos con atributos cuantitativos."
   ]
  },
  {
   "cell_type": "markdown",
   "metadata": {},
   "source": [
    "7.9 La sección 7.5.1 definió una medida de distancia de patrón entre los patrones cerrados P1 y P2 como\n",
    "\n",
    "$$ Pat\\_Dist(P_1 , P_2) = 1 - \\frac{|T(P_1) \\cap T(P_2)|}{|T(P_1) \\cup T(P_2)|}$$\n",
    "\n",
    "donde _T(P1)_ y _T(P2)_ son los conjuntos de transacciones de soporte de _P1_ y _P2_, respectivamente. ¿Es esta una métrica de distancia válida? Muestra la derivación para respaldar tu respuesta."
   ]
  },
  {
   "cell_type": "markdown",
   "metadata": {},
   "source": [
    "7.11 La extracción frecuente de patrones puede generar muchos patrones superfluos. Por lo tanto, es importante desarrollar métodos que extraigan patrones comprimidos. Supongamos que un usuario desea obtener solo k patrones (donde k es un número entero pequeño). Resuma un método eficiente que genere los k patrones más representativos, donde se prefieren patrones más distintos a patrones muy similares. Ilustre la eficacia de su método utilizando un pequeño conjunto de datos."
   ]
  }
 ],
 "metadata": {
  "language_info": {
   "name": "python"
  }
 },
 "nbformat": 4,
 "nbformat_minor": 2
}
