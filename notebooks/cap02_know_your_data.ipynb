{
 "cells": [
  {
   "cell_type": "markdown",
   "metadata": {},
   "source": [
    "---\n",
    "Instituto Politécnico Nacional\n",
    "Centro de Investigación en Computación\n",
    "\n",
    "Minería de datos I\n",
    "\n",
    "Ejercicios del capítulo 2. Getting to know your data.\n",
    "\n",
    "Presenta: Ana Maritza Bello\n",
    "---\n"
   ]
  },
  {
   "cell_type": "markdown",
   "metadata": {},
   "source": [
    "2.1 Proporcione tres medidas estadísticas adicionales de uso común que no estén\n",
    "ilustradas en este capítulo para la caracterización de la dispersión de datos.\n",
    "Analice cómo se pueden calcular de manera eficiente en bases de datos grandes."
   ]
  },
  {
   "cell_type": "markdown",
   "metadata": {},
   "source": [
    "2.2 Supongamos que los datos a analizar incluyen el atributo edad. Los valores de edad para las tuplas de datos son (en orden creciente) `13, 15, 16, 16, 19, 20, 20, 21, 22, 22, 25, 25, 25, 25, 30, 33, 33, 35, 35, 35, 35, 36, 40, 45, 46, 52, 70`."
   ]
  },
  {
   "cell_type": "markdown",
   "metadata": {},
   "source": [
    "¿Cuál es la media y mediana de los datos?"
   ]
  },
  {
   "cell_type": "code",
   "execution_count": null,
   "metadata": {},
   "outputs": [],
   "source": [
    "import pandas as pd\n",
    "\n",
    "list = [13, 15, 16, 16, 19, 20, 20, 21, 22, 22, 25, 25, 25, 25, 30, 33, 33, 35, 35, 35, 35, 36, 40, 45, 46, 52, 70]\n",
    "edad = pd.DataFrame(list)\n",
    "\n",
    "# Media\n",
    "print(\"Media:\", edad[0].mean())\n",
    "\n",
    "# Mediana\n",
    "print(\"Mediana:\", edad[0].median())\n"
   ]
  },
  {
   "cell_type": "markdown",
   "metadata": {},
   "source": [
    "¿Cuál es la moda de los datos? (bimodal, trimodal)\n",
    "\n",
    "\n",
    "Es bimodal, ya que las edades de 25 y 35 se repiten la misma cantidad de veces,\n",
    "es decir 4 veces como se puede observar en la gráfica."
   ]
  },
  {
   "cell_type": "code",
   "execution_count": null,
   "metadata": {},
   "outputs": [],
   "source": [
    "# Moda\n",
    "import seaborn as sns\n",
    "import matplotlib.pyplot as plt\n",
    "\n",
    "histplot = sns.histplot(data=edad, x=0, binwidth=1, kde=True)\n",
    "histplot.set_title(\"Histograma de edades\")\n",
    "histplot.set_xlabel(\"Edades\")"
   ]
  },
  {
   "cell_type": "markdown",
   "metadata": {},
   "source": [
    "¿Cuál es el rango medio de los datos?"
   ]
  },
  {
   "cell_type": "code",
   "execution_count": null,
   "metadata": {},
   "outputs": [],
   "source": [
    "# Midrange\n",
    "\n",
    "print(\"El rango medio de los datos es:\", (edad[0].min() + edad[0].max()) / 2)"
   ]
  },
  {
   "cell_type": "markdown",
   "metadata": {},
   "source": [
    "Muestra un boxplot de los datos."
   ]
  },
  {
   "cell_type": "code",
   "execution_count": null,
   "metadata": {},
   "outputs": [],
   "source": [
    "# Boxplot\n",
    "edades_boxplot = sns.boxplot(x=edad[0], showmeans=True, meanline=True,)\n",
    "edades_boxplot.set_title('Boxplot de edades')\n",
    "edades_boxplot.set_xlabel('Edad')\n",
    "plt.show()"
   ]
  },
  {
   "cell_type": "markdown",
   "metadata": {},
   "source": [
    "¿Puedes encontrar (aproximadamente) el primer cuartil (Q1) y el tercer cuartil\n",
    "(Q3) de los datos?"
   ]
  },
  {
   "cell_type": "code",
   "execution_count": null,
   "metadata": {},
   "outputs": [],
   "source": [
    "# Quartiles\n",
    "\n",
    "print(f\"Primer cuartil: {edad[0].quantile(0.25)}\")\n",
    "print(f\"Tercer cuartil: {edad[0].quantile(0.75)}\")\n"
   ]
  },
  {
   "cell_type": "markdown",
   "metadata": {},
   "source": [
    "Proporciona un resumen de los 5 números de los datos"
   ]
  },
  {
   "cell_type": "code",
   "execution_count": null,
   "metadata": {},
   "outputs": [],
   "source": [
    "# Five-number summary\n",
    "print(\"Interquartile range:\", edad[0].quantile(0.75) - edad[0].quantile(0.25))\n",
    "edad[0].describe()"
   ]
  },
  {
   "cell_type": "markdown",
   "metadata": {},
   "source": [
    "¿Cuál es la diferencia entre una gráfica quantile-quantile y una de quantil?\n",
    "\n",
    "En la gráfica de quantile, podemos observar la distribución de datos de una sola\n",
    "variable, mientras que en la q-q plot podemos observar la distribución de una\n",
    "variable contra la distribución de otra.\n"
   ]
  },
  {
   "cell_type": "code",
   "execution_count": null,
   "metadata": {},
   "outputs": [],
   "source": [
    "# Quantile plot\n",
    "\n",
    "import statsmodels.api as sm\n",
    "import matplotlib.pyplot as plt\n",
    "\n",
    "edad_qqplot = sm.qqplot(edad[0], line='s')"
   ]
  },
  {
   "cell_type": "markdown",
   "metadata": {},
   "source": [
    "2.3 Supongamos que los valores de un conjunto de datos determinado se agrupan en\n",
    "intervalos. Los intervalos y frecuencias correspondientes son los siguientes:\n",
    "\n",
    "| Edad   | Frecuencia |\n",
    "|--------|------------|\n",
    "| 1-5    | 200        |\n",
    "| 6-15   | 450        |\n",
    "| 16-20  | 30         |\n",
    "| 21-50  | 1500       |\n",
    "| 51-80  | 700        |\n",
    "| 81-110 | 44         |\n",
    "\n",
    "Calcule una mediana aproximada para los datos"
   ]
  },
  {
   "cell_type": "code",
   "execution_count": null,
   "metadata": {},
   "outputs": [],
   "source": [
    "edad_2 = [1-5, 6-15, 16-20,21-50,51-80,81-110]\n",
    "frecuencia = [200, 450, 30, 1500, 700, 44]\n",
    "\n",
    "df_1 = pd.DataFrame(edad_2, frecuencia)"
   ]
  },
  {
   "cell_type": "markdown",
   "metadata": {},
   "source": [
    "2.4 Supongamos que un hospital analizó los datos de edad y grasa corporal de 18\n",
    "adultos seleccionados al azar y obtuvo los siguientes resultados:\n",
    "\n",
    "| Edad       | 23  | 23   | 27  | 27   | 39   | 41   | 47   | 49   | 50   |\n",
    "|------------|-----|------|-----|------|------|------|------|------|------|\n",
    "| % de grasa | 9.5 | 26.5 | 7.8 | 17.8 | 31.4 | 25.9 | 27.4 | 27.2 | 31.2 |\n",
    "\n",
    "---\n",
    "\n",
    "| Edad       | 52   | 54   | 54   | 56   | 57   | 58   | 58   | 60   | 61   |\n",
    "|------------|------|------|------|------|------|------|------|------|------|\n",
    "| % de grasa | 34.6 | 42.5 | 28.8 | 33.4 | 30.2 | 34.1 | 32.9 | 41.2 | 35.7 |\n",
    "\n",
    "1. Calcula la media, mediana y desviación estándar para la edad y el porcentaje de grasa.\n",
    "1. Dibuja los boxplots para las dos variables.\n",
    "1. Dibuja un scatter plot y un q-q plot basado en estas dos variables\n"
   ]
  },
  {
   "cell_type": "markdown",
   "metadata": {},
   "source": [
    "2.5 Resuma brevemente cómo calcular la disimilitud entre objetos descritos a continuación:\n",
    "\n",
    "1.  Atributos nominales\n",
    "1. Atributos binarios asimétricos\n",
    "1. Atributos numéricos\n",
    "1. Vectores término-frecuencia\n"
   ]
  },
  {
   "cell_type": "markdown",
   "metadata": {},
   "source": [
    "2.6 Dados dos objetos representados por las tuplas `(22, 1, 42, 10)` y `(20, 0,\n",
    "36, 8)`:\n",
    "\n",
    "1. Calcula la distancia euclidiana entre los dos objetos\n",
    "1. Calcula la distancia de Manhattan entre los dos objetos\n",
    "1. Calcula la distancia de Minkowski entre los dos objetos, usando q=3\n",
    "1. Calcula la distancia suprema entre los dos objetos\n"
   ]
  },
  {
   "cell_type": "markdown",
   "metadata": {},
   "source": [
    "2.7 La mediana es una de las medidas integrales más importantes en el análisis de datos. Proponga varios métodos para la aproximación de la mediana. Analice su complejidad respectiva bajo diferentes configuraciones de parámetros y decida hasta qué punto se puede aproximar el valor real. Además, sugiera una estrategia heurística para equilibrar la precisión y la complejidad y luego aplíquela a todos los métodos que haya proporcionado."
   ]
  },
  {
   "cell_type": "markdown",
   "metadata": {},
   "source": [
    "2.8 Es importante definir o seleccionar medidas de similitud en el análisis de datos. Sin embargo, no existe una medida de similitud subjetiva comúnmente aceptada. Los resultados pueden variar dependiendo de las medidas de similitud utilizadas. Sin embargo, medidas de similitud aparentemente diferentes pueden ser equivalentes después de alguna transformación. Supongamos que tenemos el siguiente conjunto de datos 2-D:\n",
    "\n",
    "|     | A_1 | A_2 |\n",
    "|-----|-----|-----|\n",
    "| x_1 | 1.5 | 1.7 |\n",
    "| x_2 | 2   | 1.9 |\n",
    "| x_3 | 1.6 | 1.8 |\n",
    "| x_4 | 1.2 | 1.5 |\n",
    "| x_5 | 1.5 | 1.0 |\n",
    "\n",
    "1. Considere los datos como puntos de datos 2-D. Dado un nuevo punto de datos,\n",
    "   `x = (1.4, 1.6)` como consulta, clasifique los puntos de la base de datos\n",
    "   según la similitud con la consulta utilizando la distancia euclidiana, la\n",
    "   distancia de Manhattan, la distancia suprema y la similitud del coseno.\n",
    "\n",
    "1. Normalice el conjunto de datos para que la norma de cada punto de datos sea igual a 1. Utilice la distancia euclidiana en los datos transformados para clasificar los puntos de datos.\n"
   ]
  }
 ],
 "metadata": {
  "kernelspec": {
   "display_name": "Python 3",
   "language": "python",
   "name": "python3"
  },
  "language_info": {
   "codemirror_mode": {
    "name": "ipython",
    "version": 3
   },
   "file_extension": ".py",
   "mimetype": "text/x-python",
   "name": "python",
   "nbconvert_exporter": "python",
   "pygments_lexer": "ipython3",
   "version": "3.10.12"
  },
  "orig_nbformat": 4
 },
 "nbformat": 4,
 "nbformat_minor": 2
}
