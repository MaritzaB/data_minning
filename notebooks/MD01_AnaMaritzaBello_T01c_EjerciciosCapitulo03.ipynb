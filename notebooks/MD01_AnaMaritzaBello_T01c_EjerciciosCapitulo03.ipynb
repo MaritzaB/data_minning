{
 "cells": [
  {
   "cell_type": "markdown",
   "metadata": {},
   "source": [
    "Instituto Politécnico Nacional\n",
    "\n",
    "Centro de Investigación en Computación\n",
    "\n",
    "Minería de datos I\n",
    "\n",
    "Ejercicios del capítulo 3.\n",
    "Ejercicios del 1-11 y 13\n",
    "\n",
    "Presenta: Ana Maritza Bello\n",
    "\n",
    "---"
   ]
  },
  {
   "cell_type": "markdown",
   "metadata": {},
   "source": [
    "3.1 La calidad de los datos se puede evaluar en términos de varias cuestiones,\n",
    "incluidas la precisión, la integridad y la coherencia. Para cada una de las tres\n",
    "cuestiones anteriores, analice cómo la evaluación de la calidad de los datos\n",
    "puede depender del uso previsto de los datos, dando ejemplos. Proponer otras dos\n",
    "dimensiones de la calidad de los datos.\n",
    "\n",
    "---\n",
    "\n",
    "Respuesta.\n",
    "\n",
    "- **Precisión:** Es la exactitud de los datos, es decir, que los datos no se desvíen\n",
    "  de su valor real. Por ejemplo, en un inventario de productos, la cantidad de\n",
    "  productos en existencia debe ser exacta, esto con el fin de no subestimar o\n",
    "  sobreestimar la cantidad de productos disponibles.\n",
    "\n",
    "- **Integridad:** Es la completitud de los datos, es decir, que los datos no\n",
    "  contengan valores nulos. Por ejemplo, en una base de datos de empleados, el\n",
    "  número de identificación de cada empleado debe ser único, esto con el fin de\n",
    "  no tener empleados con el mismo número de identificación. Este valor es\n",
    "  crucial para identificar a cada empleado, por lo tanto no puede ser nulo.\n",
    "\n",
    "- **Coherencia:** Es la consistencia de los datos, es decir, que los datos no\n",
    "  contengan valores que contradigan a otros datos. Por ejemplo, en una base de\n",
    "  datos de empleados, el salario de cada empleado debe ser mayor que cero.\n",
    "\n",
    "Otras cuestiones relevantes para evaluar la calidad de los datos son:\n",
    "\n",
    "- **Actualidad:** Es la vigencia de los datos, es decir, que los datos no sean\n",
    "  obsoletos. Por ejemplo, en una base de datos de empleados, la fecha de\n",
    "  ingreso de cada empleado debe ser menor o igual a la fecha actual. Los datos\n",
    "  de empleados que ya no trabajan en la empresa pueden ya no ser relevantes."
   ]
  },
  {
   "cell_type": "markdown",
   "metadata": {},
   "source": [
    "3.2 En los datos del mundo real, las tuplas con valores faltantes para algunos\n",
    "atributos son algo común. Describa varios métodos para manejar este problema.\n",
    "\n",
    "---\n",
    "\n",
    "Respuesta.\n",
    "\n",
    "- **Eliminar tuplas:** Si el número de tuplas con valores faltantes es\n",
    "  despreciable en comparación con el número total de tuplas, entonces se pueden\n",
    "  eliminar las tuplas con valores faltantes. Sin embargo, si el número de tuplas\n",
    "  con valores faltantes es significativo, entonces este método no es viable.\n",
    "\n",
    "- **Usar una constante global para llenar los valores faltantes:** Si el\n",
    "  atributo es numérico, entonces se puede usar la media o la mediana de los\n",
    "  valores no nulos para llenar los valores faltantes. Si el atributo es\n",
    "  categórico, entonces se puede usar la moda de los valores no nulos para llenar\n",
    "  los valores faltantes. Este método es simple y rápido, pero puede distorsionar\n",
    "  la distribución de los datos.\n",
    "\n",
    "- **Usar el valor más probable para llenar los valores faltantes:** Por ejemplo\n",
    "  si tenemos una serie de tiempo, entonces se puede usar el valor del mismo día\n",
    "  o de la misma semana de la semana anterior para llenar los valores faltantes.\n",
    "\n",
    "- **Llenar manualmente los valores faltantes:** Si el número de tuplas con\n",
    "  valores faltantes es pequeño, entonces se pueden llenar manualmente los\n",
    "  valores faltantes. Sin embargo, este método es lento y propenso a errores."
   ]
  },
  {
   "cell_type": "markdown",
   "metadata": {},
   "source": [
    "3.3 El ejercicio 2.2 proporcionó los siguientes datos (en orden creciente) para\n",
    "el atributo edad: `13, 15, 16, 16, 19, 20, 20, 21, 22, 22, 25, 25, 25, 25, 30,\n",
    "33, 33, 35, 35, 35, 35, 36, 40, 45, 46, 52, 70`.\n",
    "\n",
    "1. Utilice el suavizado por medios bin para suavizar estos datos, utilizando\n",
    "una profundidad bin de 3. Ilustre sus pasos. Comente sobre el efecto de esta\n",
    "técnica para los datos dados."
   ]
  },
  {
   "cell_type": "code",
   "execution_count": 1,
   "metadata": {},
   "outputs": [
    {
     "name": "stdout",
     "output_type": "stream",
     "text": [
      "bin_01:  [14.666666666666666, 14.666666666666666, 14.666666666666666]\n",
      "bin_02:  [18.333333333333332, 18.333333333333332, 18.333333333333332]\n",
      "bin_03:  [21.0, 21.0, 21.0]\n",
      "bin_04:  [24.0, 24.0, 24.0]\n",
      "bin_05:  [26.666666666666668, 26.666666666666668, 26.666666666666668]\n",
      "bin_06:  [33.666666666666664, 33.666666666666664, 33.666666666666664]\n",
      "bin_07:  [35.0, 35.0, 35.0]\n",
      "bin_08:  [40.333333333333336, 40.333333333333336, 40.333333333333336]\n",
      "bin_09:  [56.0, 56.0, 56.0]\n"
     ]
    }
   ],
   "source": [
    "age = [ 13, 15, 16, 16, 19, 20, 20, 21, 22, 22, 25, 25, 25, 25, 30, 33, 33, 35, 35, 35, 35, 36, 40, 45, 46, 52, 70 ]\n",
    "\n",
    "# Paso 1. Ordenar los datos de menor a mayor\n",
    "# Paso 2. Dividir los datos en bins de 3 datos\n",
    "\n",
    "bin_01 = age[0:3]\n",
    "bin_02 = age[3:6]\n",
    "bin_03 = age[6:9]\n",
    "bin_04 = age[9:12]\n",
    "bin_05 = age[12:15]\n",
    "bin_06 = age[15:18]\n",
    "bin_07 = age[18:21]\n",
    "bin_08 = age[21:24]\n",
    "bin_09 = age[24:27]\n",
    "\n",
    "# Paso 3. Calcular la media aritmerica de cada bin\n",
    "\n",
    "bin_01_mean = sum(bin_01)/len(bin_01)\n",
    "bin_02_mean = sum(bin_02)/len(bin_02)\n",
    "bin_03_mean = sum(bin_03)/len(bin_03)\n",
    "bin_04_mean = sum(bin_04)/len(bin_04)\n",
    "bin_05_mean = sum(bin_05)/len(bin_05)\n",
    "bin_06_mean = sum(bin_06)/len(bin_06)\n",
    "bin_07_mean = sum(bin_07)/len(bin_07)\n",
    "bin_08_mean = sum(bin_08)/len(bin_08)\n",
    "bin_09_mean = sum(bin_09)/len(bin_09)\n",
    "\n",
    "# Paso 4. Reeplazar los datos de cada bin por la media aritmetica\n",
    "\n",
    "bin_01 = [bin_01_mean, bin_01_mean, bin_01_mean]\n",
    "bin_02 = [bin_02_mean, bin_02_mean, bin_02_mean]\n",
    "bin_03 = [bin_03_mean, bin_03_mean, bin_03_mean]\n",
    "bin_04 = [bin_04_mean, bin_04_mean, bin_04_mean]\n",
    "bin_05 = [bin_05_mean, bin_05_mean, bin_05_mean]\n",
    "bin_06 = [bin_06_mean, bin_06_mean, bin_06_mean]\n",
    "bin_07 = [bin_07_mean, bin_07_mean, bin_07_mean]\n",
    "bin_08 = [bin_08_mean, bin_08_mean, bin_08_mean]\n",
    "bin_09 = [bin_09_mean, bin_09_mean, bin_09_mean]\n",
    "\n",
    "# Paso 5. Unir los datos de cada bin en un solo vector\n",
    "\n",
    "print( 'bin_01: ', bin_01 )\n",
    "print( 'bin_02: ', bin_02 )\n",
    "print( 'bin_03: ', bin_03 )\n",
    "print( 'bin_04: ', bin_04 )\n",
    "print( 'bin_05: ', bin_05 )\n",
    "print( 'bin_06: ', bin_06 )\n",
    "print( 'bin_07: ', bin_07 )\n",
    "print( 'bin_08: ', bin_08 )\n",
    "print( 'bin_09: ', bin_09 )\n",
    "\n",
    "# Este método suaviza los datos, pero no es muy eficiente, ya que se pierde\n",
    "# información de los datos originales. Además, no es muy eficiente, ya que\n",
    "# se requiere un proceso manual para cada bin.\n"
   ]
  },
  {
   "cell_type": "markdown",
   "metadata": {},
   "source": [
    "2. ¿Cómo podría determinar los valores atípicos en los datos?\n",
    "\n",
    "Los valores atípicos pueden detectarse con _clustering_, dónde los valores\n",
    "similares se agrupen en _clusters_ y los valores que no se agrupen en ningún\n",
    "_cluster_ pueden considerarse atípicos."
   ]
  },
  {
   "cell_type": "markdown",
   "metadata": {},
   "source": [
    "3. ¿Qué otros métodos existen para suavizar los datos?\n",
    "\n",
    "    **1. Promedio móvil (Moving Average):**\n",
    "    \n",
    "    - _Promedio simple_: Calcula el promedio de un conjunto de puntos de datos\n",
    "    adyacentes para suavizar los valores.\n",
    "    \n",
    "    - _Promedio ponderado_: Asigna pesos diferentes a los puntos de datos, lo que\n",
    "    puede dar más importancia a algunos valores sobre otros.\n",
    "    \n",
    "    **2. Suavizado exponencial (Exponential Smoothing):**\n",
    "    \n",
    "    - _Suavizado exponencial simple_: Asigna un peso exponencialmente decreciente a los\n",
    "    valores pasados para dar más importancia a los datos recientes.\n",
    "    \n",
    "    - _Suavizado exponencial doble_: Utiliza dos niveles de suavizado para manejar\n",
    "    datos con tendencias y estacionalidad.\n",
    "    \n",
    "    - _Suavizado exponencial triple_: Añade un tercer nivel de suavizado para\n",
    "    manejar datos con tendencia, estacionalidad y componentes de error.\n",
    "    \n",
    "    **3. Suavizado de ventanas (Window Smoothing):**\n",
    "    \n",
    "    - _Media móvil ponderada_: Similar al promedio móvil, pero utiliza una ventana\n",
    "    de tiempo ponderada para calcular el promedio.\n",
    "    \n",
    "    - _Suavizado de Kernell (Kernel Smoothing)_: Utiliza una función de núcleo (kernel)\n",
    "    para suavizar los datos, como el suavizado gaussiano.\n",
    "    \n",
    "    **4. Regresión local (Local Regression):**\n",
    "    \n",
    "    - _Regresión lineal local_: Ajusta una regresión lineal a una pequeña ventana de datos en torno a cada punto para estimar el valor suavizado.\n",
    "    \n",
    "    - _Splines suaves_: Utiliza polinomios suaves para ajustar datos en segmentos locales.\n",
    "    \n",
    "    **5. Suavizado de Fourier:**\n",
    "    \n",
    "    Utiliza la transformada de Fourier para filtrar componentes de alta frecuencia y suavizar los datos.\n",
    "    \n",
    "    **6. Suavizado de wavelets:**\n",
    "    \n",
    "    Utiliza wavelets para descomponer los datos en diferentes escalas y suavizarlos en función de la escala deseada."
   ]
  },
  {
   "cell_type": "markdown",
   "metadata": {},
   "source": [
    "3.4 Debatir cuestiones a considerar durante la integración de datos.\n",
    "\n",
    "---\n",
    "La integración de datos es un proceso que si no se realiza correctamente puede\n",
    "llevarnos a obtener resultados erróneos en los análisis que realicemos. Por este\n",
    "motivo, es importante tener en cuenta ciertas cuestiones durante el proceso, por\n",
    "ejemplo:\n",
    "\n",
    "- **Consistencia de los datos:** Los datos deben ser consistentes entre sí, es\n",
    "  decir, que en diferentes fuentes de datos, los datos que representan el mismo\n",
    "  objeto deben ser iguales. Por ejemplo, si tenemos una base de datos de\n",
    "  clientes y otra de productos, y en ambas bases de datos tenemos un campo que\n",
    "  es el código de cliente, el código de cliente debe ser el mismo en ambas.\n",
    "\n",
    "- **Identificación de duplicados:** Los valores duplicados nos pueden llevar a\n",
    "    estádisticas erróneas en el análisis general de los datos.\n",
    "\n",
    "- **Normalización de los datos:** Esto quiere decir que los datos deben de estar\n",
    "  en el mismo formato.\n",
    "\n",
    "- **Gestión de cambios:** Los datos pueden cambiar con el tiempo, por lo que\n",
    "  debemos tener en cuenta la gestión de estos cambios para que no afecten a la\n",
    "  integridad de los mismos.\n",
    "\n",
    "- **Escalabilidad:** Esto quiere decir que se debe de llevar a cabo un buen\n",
    "  diseño de la base de datos para que esta sea escalable, es decir, que se\n",
    "  pueda ampliar en el futuro sin que esto afecte a la integridad de los datos.\n",
    "\n",
    "- **Seguridad:** Los datos deben de estar protegidos para que no puedan ser\n",
    "    modificados por usuarios no autorizados.\n"
   ]
  },
  {
   "cell_type": "markdown",
   "metadata": {},
   "source": [
    "3.5 ¿Cuáles son los rangos de valores de los siguientes métodos de\n",
    "normalización?\n",
    "\n",
    "1. **Normalización mín-máx**\n",
    "\n",
    "Respuesta.\n",
    "\n",
    "Rango de valores resultantes: [0, 1] o en ocasiones [a, b] donde a y b son\n",
    "valores específicos definidos por el usuario.\n",
    "\n",
    "1. **Normalización de puntuación z**\n",
    "\n",
    "Respuesta.\n",
    "\n",
    "Rango de valores resultantes: Cualquier valor real positivo o negativo. La media\n",
    "se centra en 0 y la desviación estándar es igual a 1 en la distribución normal\n",
    "estándar, pero los valores pueden estar fuera de este rango.\n",
    "\n",
    "1. **Normalización del puntaje z utilizando la desviación absoluta media en lugar\n",
    "de la desviación estándar**\n",
    "\n",
    "Respuesta.\n",
    "\n",
    "El rango de valores resultantes depende de cómo se calcule la desviación\n",
    "absoluta media y cómo se aplique. No hay un rango estándar definido, y los\n",
    "valores resultantes pueden variar.\n",
    "\n",
    "1. **Normalización mediante escala decimal**\n",
    "\n",
    "Respuesta.\n",
    "\n",
    "Rango de valores resultantes: Generalmente, los valores resultantes se\n",
    "encuentran en el rango de `[0, 1]`, pero esto puede variar según cómo se\n",
    "implemente. La escala decimal se refiere a cuántos lugares decimales se utilizan\n",
    "para representar los valores normalizados.\n"
   ]
  },
  {
   "cell_type": "markdown",
   "metadata": {},
   "source": [
    "3.6 Utilice estos métodos para normalizar el siguiente grupo de datos:\n",
    "`200, 300, 400, 600, 1000`.\n",
    "\n",
    "1. Normalización min-max estableciendo min = 0 y max = 1\n",
    "\n",
    "1. Normalización de puntuación z\n",
    "\n",
    "1. Normalización del puntaje z utilizando la desviación absoluta media en lugar\n",
    "   de la desviación estándar\n",
    "\n",
    "1. Normalización mediante escala decimal\n"
   ]
  },
  {
   "cell_type": "code",
   "execution_count": 2,
   "metadata": {},
   "outputs": [
    {
     "name": "stdout",
     "output_type": "stream",
     "text": [
      "Min-Max Normalization:  [0.0, 0.125, 0.25, 0.5, 1.0]\n"
     ]
    }
   ],
   "source": [
    "# Normalización de datos\n",
    "\n",
    "data = [200, 300, 400, 600, 1000]\n",
    "\n",
    "# Min-Max Normalization\n",
    "\n",
    "min_value = min(data)\n",
    "max_value = max(data)\n",
    "\n",
    "data_norm = []\n",
    "for i in data:\n",
    "    data_norm.append((i - min_value)/(max_value - min_value))\n",
    "\n",
    "print( 'Min-Max Normalization: ', data_norm )"
   ]
  },
  {
   "cell_type": "code",
   "execution_count": 3,
   "metadata": {},
   "outputs": [
    {
     "name": "stdout",
     "output_type": "stream",
     "text": [
      "Media:  500.0\n",
      "Desviación estándar 316.22776601683796\n",
      "Z-Score Normalization:  [-0.9486832980505138, -0.6324555320336758, -0.3162277660168379, 0.3162277660168379, 1.5811388300841895]\n"
     ]
    }
   ],
   "source": [
    "# Z-Score Normalization\n",
    "import statistics\n",
    "\n",
    "mean_value = sum(data)/len(data)\n",
    "std_value = statistics.stdev(data)\n",
    "\n",
    "data_norm = []\n",
    "for i in data:\n",
    "    data_norm.append((i - mean_value)/std_value)\n",
    "    \n",
    "print('Media: ',mean_value)\n",
    "print('Desviación estándar', std_value)\n",
    "print('Z-Score Normalization: ', data_norm)"
   ]
  },
  {
   "cell_type": "markdown",
   "metadata": {},
   "source": [
    "3.7 Utilizando los datos de edad proporcionados en el ejercicio 3.3, responda lo siguiente:\n",
    "1.  Utilice la normalización min-max para transformar el valor `35` para la edad\n",
    "    en el rango `[0,0,1,0]`.\n",
    "\n",
    "1.  Utilice la normalización de puntuación `z` para transformar el valor `35`\n",
    "    para la edad, donde la desviación estándar de la edad es `12.94` años.\n",
    "\n",
    "1.  Utilice la normalización mediante escala decimal para transformar el valor\n",
    "    `35` para la edad.\n",
    "\n",
    "1.  Comente qué método preferiría utilizar para los datos proporcionados,\n",
    "    explicando el motivo.\n",
    " \n",
    " ---\n",
    "\n",
    "Dada la naturaleza de los datos, la normalización de puntuación z es el método\n",
    "más apropiado para estos datos. Esto se debe a que la edad es una variable que\n",
    "se distribuye normalmente y es fácil de interpretar.\n",
    "\n",
    "Normalización mín-máx:\n",
    "\n",
    "- Ventajas: Escala los datos al intervalo [0, 1], lo que facilita la comparación\n",
    "de variables con diferentes escalas. Conserva la forma relativa de la\n",
    "distribución.\n",
    "\n",
    "- Desventajas: Sensible a valores atípicos, ya que estos pueden afectar\n",
    "  significativamente los valores escalados. No es resistente a valores extremos.\n",
    "\n",
    "Normalización de puntuación z (z-score):\n",
    "\n",
    "- Ventajas: Centra los datos alrededor de cero y los escala en función de la\n",
    "  desviación estándar, lo que facilita la comparación de datos con diferentes\n",
    "  medias y desviaciones estándar. Útil cuando se asume que los datos siguen una\n",
    "  distribución normal.\n",
    "\n",
    "- Desventajas: No es apropiada para datos que no siguen una distribución normal.\n",
    "  Puede generar valores negativos.\n",
    "\n",
    "Normalización mediante escala decimal:\n",
    "\n",
    "- Ventajas: Escala los datos a un rango específico (generalmente [0, 1]), lo que\n",
    "  puede ser útil cuando se necesita una escala específica. Preserva la forma\n",
    "  relativa de la distribución.\n",
    "\n",
    "- Desventajas: No maneja bien los valores atípicos. Puede requerir ajustes\n",
    "  cuidadosos del parámetro de escala."
   ]
  },
  {
   "cell_type": "code",
   "execution_count": 4,
   "metadata": {},
   "outputs": [
    {
     "name": "stdout",
     "output_type": "stream",
     "text": [
      "Min-Max Normalization of age 35:  0.38596491228070173\n"
     ]
    }
   ],
   "source": [
    "# Min-Max Normalization\n",
    "\n",
    "value = 35\n",
    "\n",
    "min_value = min(age)\n",
    "max_value = max(age)\n",
    "\n",
    "norm_value = (value - min_value)/(max_value - min_value)\n",
    "print(f'Min-Max Normalization of age {value}: ', norm_value )"
   ]
  },
  {
   "cell_type": "code",
   "execution_count": 5,
   "metadata": {},
   "outputs": [
    {
     "name": "stdout",
     "output_type": "stream",
     "text": [
      "Mean of age 35:  29.962962962962962\n"
     ]
    }
   ],
   "source": [
    "# Z-Score Normalization\n",
    "\n",
    "mean_value = sum(age)/len(age)\n",
    "std_value = 12.94\n",
    "\n",
    "norm_value = (value - mean_value)/std_value\n",
    "print(f'Mean of age {value}: ',mean_value)"
   ]
  },
  {
   "cell_type": "code",
   "execution_count": 6,
   "metadata": {},
   "outputs": [
    {
     "name": "stdout",
     "output_type": "stream",
     "text": [
      "Decimal Scaling Normalization of age 35:  0.35\n"
     ]
    }
   ],
   "source": [
    "# Decimal Scaling Normalization\n",
    "n = 2\n",
    "\n",
    "norm_value = value/10**n\n",
    "print(f'Decimal Scaling Normalization of age {value}: ', norm_value )\n"
   ]
  },
  {
   "cell_type": "markdown",
   "metadata": {},
   "source": [
    "3.8 Utilizando los datos de edad y grasa corporal proporcionados en el ejercicio 2.4, responda lo siguiente:\n",
    "1.  Normalice los dos atributos según la normalización de la puntuación `z`.\n",
    "\n",
    "1.  Calcule el coeficiente de correlación (coeficiente de momento del producto de Pearson). ¿Están estos dos atributos correlacionados positiva o negativamente? Calcule su covarianza."
   ]
  },
  {
   "cell_type": "code",
   "execution_count": 7,
   "metadata": {},
   "outputs": [
    {
     "name": "stdout",
     "output_type": "stream",
     "text": [
      "    Edad  Z-score_edad  fat_percentage  Z-score_fat_percentage\n",
      "0     23     -1.773592             9.5               -2.083695\n",
      "1     23     -1.773592            26.5               -0.246730\n",
      "2     27     -1.470989             7.8               -2.267391\n",
      "3     27     -1.470989            17.8               -1.186824\n",
      "4     39     -0.563178            31.4                0.282749\n",
      "5     41     -0.411877            25.9               -0.311564\n",
      "6     47      0.042028            27.4               -0.149479\n",
      "7     49      0.193330            27.2               -0.171090\n",
      "8     50      0.268981            31.2                0.261137\n",
      "9     52      0.420282            34.6                0.628530\n",
      "10    54      0.571584            42.5                1.482179\n",
      "11    54      0.571584            28.8                0.001801\n",
      "12    56      0.722886            33.4                0.498862\n",
      "13    57      0.798537            30.2                0.153080\n",
      "14    58      0.874187            34.1                0.574502\n",
      "15    58      0.874187            32.9                0.444834\n",
      "16    60      1.025489            41.2                1.341705\n",
      "17    61      1.101140            35.7                0.747393\n"
     ]
    }
   ],
   "source": [
    "import pandas as pd\n",
    "\n",
    "edad = [23, 23, 27, 27,39,41,47,49,50,52,54,54,56,57,58,58,60,61]\n",
    "fat_percentage = [9.5, 26.5, 7.8, 17.8, 31.4, 25.9, 27.4, 27.2, 31.2, 34.6, 42.5, 28.8, 33.4, 30.2, 34.1, 32.9, 41.2, 35.7]\n",
    "\n",
    "# Z-Score Normalization for age\n",
    "\n",
    "edad_mean_value = sum(edad)/len(edad)\n",
    "edad_std_value = statistics.stdev(edad)\n",
    "\n",
    "z_edad = []\n",
    "for i in edad:\n",
    "    z_edad.append((i - edad_mean_value)/edad_std_value)\n",
    "\n",
    "norm_age = pd.DataFrame({'Edad': edad, 'Z-score_edad': z_edad})\n",
    "\n",
    "# Z-Score Normalization for fat_percentage\n",
    "\n",
    "fat_percentage_mean_value = sum(fat_percentage)/len(fat_percentage)\n",
    "fat_percentage_std_value = statistics.stdev(fat_percentage)\n",
    "\n",
    "fat_percentage_norm = []\n",
    "for i in fat_percentage:\n",
    "    fat_percentage_norm.append((i - fat_percentage_mean_value)/fat_percentage_std_value)\n",
    "    \n",
    "fat_percentage_norm = pd.DataFrame(\n",
    "    {'fat_percentage': fat_percentage, 'Z-score_fat_percentage': fat_percentage_norm}\n",
    "    )\n",
    "\n",
    "print(pd.concat([norm_age, fat_percentage_norm], axis=1))"
   ]
  },
  {
   "cell_type": "markdown",
   "metadata": {},
   "source": [
    "3.9 Supongamos que un grupo de 12 registros de precios de venta se ha ordenado\n",
    "de la siguiente manera: `5,10,11,13,15,35,50,55,72,92,204,215`.\n",
    "\n",
    "Divídalos en tres contenedores mediante cada uno de los siguientes métodos:\n",
    "1.  Partición de igual frecuencia (igual profundidad)\n",
    "\n",
    "1.  Partición de igual ancho\n",
    "\n",
    "1.  Agrupación"
   ]
  },
  {
   "cell_type": "code",
   "execution_count": 8,
   "metadata": {},
   "outputs": [
    {
     "name": "stdout",
     "output_type": "stream",
     "text": [
      "Partición con igual frecuencia \n",
      " bin_01:  [5, 10, 11, 13] bin_02:  [15, 35, 50, 55] bin_03:  [72, 92, 204, 215]\n",
      "Partición con equal-width \n",
      " bin_01:  [5, 10, 11, 13, 15, 35, 50, 55, 72] \n",
      " bin_02:  [92] \n",
      " bin_03:  [204, 215]\n"
     ]
    }
   ],
   "source": [
    "prices = [ 5,10,11,13,15,35,50,55,72,92,204,215 ]\n",
    "\n",
    "# Equidepth partitioning\n",
    "\n",
    "bin_01 = prices[0:4]\n",
    "bin_02 = prices[4:8]\n",
    "bin_03 = prices[8:12]\n",
    "\n",
    "print('Partición con igual frecuencia \\n',\n",
    "      'bin_01: ', bin_01, 'bin_02: ', bin_02, 'bin_03: ', bin_03)\n",
    "\n",
    "# Equal width partitioning\n",
    "\n",
    "min_value = min(prices)\n",
    "max_value = max(prices)\n",
    "width = (max_value - min_value)/3\n",
    "\n",
    "bin_01 = []\n",
    "bin_02 = []\n",
    "bin_03 = []\n",
    "\n",
    "for i in prices:\n",
    "    if i <= min_value + width:\n",
    "        bin_01.append(i)\n",
    "    elif i <= min_value + 2*width:\n",
    "        bin_02.append(i)\n",
    "    else:\n",
    "        bin_03.append(i)\n",
    "\n",
    "print('Partición con equal-width \\n',\n",
    "      'bin_01: ', bin_01, '\\n bin_02: ', bin_02, '\\n bin_03: ', bin_03)\n"
   ]
  },
  {
   "cell_type": "markdown",
   "metadata": {},
   "source": [
    "3.10 Utilice un diagrama de flujo para resumir los siguientes procedimientos para la selección de subconjuntos de atributos:\n",
    "1. Selección paso a paso hacia adelante\n",
    "\n",
    "1. Eliminación gradual hacia atrás\n",
    "\n",
    "1. Una combinación de selección hacia adelante y eliminación hacia atrás\n",
    "\n",
    "---\n",
    "\n",
    "**Selección Paso a Paso Hacia Adelante:**\n",
    "\n",
    "1. Inicia con un conjunto vacío de atributos seleccionados.\n",
    "1. Evalúa el rendimiento del modelo con cada atributo individual y selecciona el\n",
    "   que tenga el mejor desempeño según un criterio predefinido (por ejemplo,\n",
    "   precisión o error).\n",
    "1. Agrega el atributo seleccionado al conjunto de atributos seleccionados.\n",
    "1. Repite los pasos 2 y 3 hasta que se cumpla un criterio de parada (por\n",
    "   ejemplo, un número máximo de atributos o un rendimiento aceptable).\n",
    "\n",
    "\n",
    "**Eliminación Gradual Hacia Atrás:**\n",
    "\n",
    "1. Comienza con todos los atributos en el conjunto de atributos seleccionados.\n",
    "1. Evalúa el rendimiento del modelo con todos los atributos y elimina el\n",
    "   atributo que tiene el menor impacto o contribución según un criterio\n",
    "   predefinido.\n",
    "1. Repite el paso 2 hasta que se cumpla un criterio de parada (por ejemplo, un\n",
    "   número mínimo de atributos o un rendimiento aceptable).\n",
    "1. Combinación de Selección Hacia Adelante y Eliminación Hacia Atrás:\n",
    "\n",
    "**Comienza con un conjunto vacío de atributos seleccionados.**\n",
    "1. Realiza un ciclo alternante de selección hacia adelante y eliminación hacia\n",
    "   atrás.\n",
    "  - En la selección hacia adelante, agrega el atributo que tiene el mejor\n",
    "    desempeño individual.\n",
    "  - En la eliminación hacia atrás, elimina el atributo que tiene el menor\n",
    "    impacto en el modelo.\n",
    "2. Repite el ciclo hasta que se cumpla un criterio de parada."
   ]
  },
  {
   "cell_type": "markdown",
   "metadata": {},
   "source": [
    "3.11 Usando los datos para la edad dados en el ejercicio 3.3,\n",
    "1. Trace un histograma de igual ancho de 10.\n",
    "\n",
    "1. Esboce ejemplos de cada una de las siguientes técnicas de muestreo: SRSWOR,\n",
    "   SRSWR, muestreo por conglomerados y muestreo estratificado. Utilice muestras\n",
    "   de tamaño 5 y los estratos “jóvenes”, “de mediana edad” y “mayores”.\n"
   ]
  },
  {
   "cell_type": "code",
   "execution_count": 9,
   "metadata": {},
   "outputs": [
    {
     "data": {
      "text/plain": [
       "Text(0.5, 1.0, 'Histograma de Edades con Ancho de Bin de 10')"
      ]
     },
     "execution_count": 9,
     "metadata": {},
     "output_type": "execute_result"
    },
    {
     "data": {
      "image/png": "[encoded data removed]",
      "text/plain": [
       "<Figure size 640x480 with 1 Axes>"
      ]
     },
     "metadata": {},
     "output_type": "display_data"
    }
   ],
   "source": [
    "# Histograma de edades\n",
    "\n",
    "import matplotlib.pyplot as plt\n",
    "\n",
    "binwidth = 10\n",
    "\n",
    "plt.hist(age, bins=range(min(age), max(age) + binwidth, binwidth), edgecolor='black')\n",
    "plt.xlabel('Edades')\n",
    "plt.ylabel('Frecuencia')\n",
    "plt.title('Histograma de Edades con Ancho de Bin de 10')\n"
   ]
  },
  {
   "cell_type": "markdown",
   "metadata": {},
   "source": [
    "3.13 Propón un algoritmo, en pseudocódigo o en su lenguaje de programación favorito, para lo siguiente:\n",
    "1. La generación automática de una jerarquía de conceptos para datos nominales\n",
    "   basada en el número de valores distintos de atributos en el esquema dado.\n",
    "\n",
    "1.  La generación automática de una jerarquía de conceptos para datos numéricos\n",
    "    basada en la regla de partición de igual ancho.\n",
    "    \n",
    "1. La generación automática de una jerarquía de conceptos para datos numéricos\n",
    "   basada en la regla de partición de igual frecuencia.\n"
   ]
  }
 ],
 "metadata": {
  "kernelspec": {
   "display_name": "Python 3 (ipykernel)",
   "language": "python",
   "name": "python3"
  },
  "language_info": {
   "codemirror_mode": {
    "name": "ipython",
    "version": 3
   },
   "file_extension": ".py",
   "mimetype": "text/x-python",
   "name": "python",
   "nbconvert_exporter": "python",
   "pygments_lexer": "ipython3",
   "version": "3.10.12"
  },
  "orig_nbformat": 4
 },
 "nbformat": 4,
 "nbformat_minor": 2
}
