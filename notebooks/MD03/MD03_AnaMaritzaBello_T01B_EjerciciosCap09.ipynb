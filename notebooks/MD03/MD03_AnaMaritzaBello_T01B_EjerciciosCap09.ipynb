{
 "cells": [
  {
   "cell_type": "markdown",
   "metadata": {},
   "source": [
    "Instituto Politécnico Nacional\n",
    "\n",
    "Centro de Investigación en Computación\n",
    "\n",
    "Minería de datos I\n",
    "\n",
    "Ejercicios del capítulo 9. Classification and Advanced Methods.\n",
    "\n",
    "Ejercicios 1 al 5.\n",
    "\n",
    "Presenta: Ana Maritza Bello\n",
    "\n",
    "---"
   ]
  },
  {
   "cell_type": "markdown",
   "metadata": {},
   "source": [
    "9.1 La siguiente tabla consta de datos de capacitación de una base de datos de empleados. Los datos se han generalizado. Por ejemplo, _“31...35”_ por edad representa el rango de edad de 31 a 35 años.\n",
    "Para una entrada de fila determinada, el recuento representa el número de tuplas\n",
    "de datos que tienen los valores de _departamento, estado, edad_ y _salario_\n",
    "indicados en esa fila.\n",
    "\n",
    "| Departamento | Estado | Edad | Salario | Recuento |\n",
    "|--------------|--------|------|---------|----------|\n",
    "|   sales   |   senior  |   31...35 |   46K...50K   |   30  |\n",
    "|   sales   |   junior  |   26...30 |   26K...30K   |   40  |\n",
    "|   sales   |   junior  |   31...35 |   31K...35K   |   40  |\n",
    "|   systems |   junior  |   21...25 |   46K...50K   |   20  |\n",
    "|   systems |   senior  |   31...35 |   66K...70K   |   5   |\n",
    "|   systems |   junior  |   26...30 |   46K...50K   |   3   |\n",
    "|   systems |   senior  |   41...45 |   66K...70K   |   3   |\n",
    "|   marketing   |   senior  |   36...40 |   46K...50K   |   10  |\n",
    "|   marketing   |   junior  |   31...35 |   41K...45K   |   4   |\n",
    "|   secretary   |   senior  |   46...50 |   36K...40K   |   4   |   \n",
    "|   secretary   |   junior  |   26...30 |   26K...30K   |   6   |\n",
    "\n",
    "Sea el estado el atributo de etiqueta de clase.\n",
    "\n",
    "1. Diseñe una red neuronal de alimentación directa multicapa para los datos dados. Etiquete los nodos en las capas de entrada y salida.\n",
    "1. Utilizando la red neuronal de retroalimentación multicapa obtenida en\n",
    "(1.), muestre los valores de peso después de una iteración del algoritmo de retropropagación, dada la instancia de entrenamiento _\"(sales, senior, 31...35, 46K...50K)\"_. Indique sus valores de peso y sesgos iniciales y la tasa de aprendizaje utilizada."
   ]
  },
  {
   "cell_type": "markdown",
   "metadata": {},
   "source": [
    "9.2 La máquina de vectores de soporte es un método de clasificación de alta precisión. Sin embargo, los clasificadores SVM sufren un procesamiento lento cuando se entrenan con un gran conjunto de tuplas de datos. Analice cómo superar esta dificultad y desarrollar un algoritmo SVM escalable para una clasificación SVM eficiente en grandes conjuntos de datos."
   ]
  },
  {
   "cell_type": "markdown",
   "metadata": {},
   "source": [
    "9.3 Comparar y contrastar la clasificación asociativa y la clasificación discriminativa basada en patrones frecuentes. ¿Por qué la clasificación basada en patrones frecuentes puede lograr en muchos casos una mayor precisión de clasificación que el método clásico de árbol de decisión?"
   ]
  },
  {
   "cell_type": "markdown",
   "metadata": {},
   "source": [
    "9.4 Compare las ventajas y desventajas de la _eager classification_ (p. ej.,\n",
    "árbol de decisión, bayesiano, red neuronal) versus la _lazy classification_ (p. ej., _k-nearest-neighbor_, razonamiento basado en casos)."
   ]
  },
  {
   "cell_type": "markdown",
   "metadata": {},
   "source": [
    "9.5 Escriba un algoritmo para la clasificación de k vecinos más cercanos dado k, el número de vecinos más cercano, y n, el número de atributos que describen cada tupla."
   ]
  }
 ],
 "metadata": {
  "language_info": {
   "name": "python"
  }
 },
 "nbformat": 4,
 "nbformat_minor": 2
}
