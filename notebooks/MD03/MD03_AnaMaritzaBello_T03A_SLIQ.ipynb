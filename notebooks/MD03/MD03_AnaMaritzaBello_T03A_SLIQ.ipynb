{
 "cells": [
  {
   "cell_type": "markdown",
   "metadata": {},
   "source": [
    "Sources:  \n",
    "\n",
    "https://www.youtube.com/watch?v=coOTEc-0OGw\n",
    "\n",
    "https://github.com/wilsonlj/SLIQ/tree/master\n"
   ]
  }
 ],
 "metadata": {
  "language_info": {
   "name": "python"
  }
 },
 "nbformat": 4,
 "nbformat_minor": 2
}
