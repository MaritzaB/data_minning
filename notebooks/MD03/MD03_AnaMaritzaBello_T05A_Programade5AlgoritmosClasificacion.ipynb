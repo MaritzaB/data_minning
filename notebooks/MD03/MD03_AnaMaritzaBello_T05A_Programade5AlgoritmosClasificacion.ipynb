{
 "cells": [
  {
   "cell_type": "markdown",
   "metadata": {},
   "source": [
    "Instituto Politécnico Nacional\n",
    "\n",
    "Centro de Investigación en Computación\n",
    "\n",
    "Minería de datos I\n",
    "\n",
    "Programación de cinco algoritmos de clasificación\n",
    "\n",
    "Presenta: Ana Maritza Bello\n",
    "\n",
    "---"
   ]
  },
  {
   "cell_type": "markdown",
   "metadata": {},
   "source": [
    "1. Bayes\n",
    "2. Bayesian belief network\n",
    "3. Neural Networks\n",
    "4. K-Nearest Neighbors\n",
    "5. Support Vector Machine\n",
    "---\n",
    "1. Con datos del libro de Jiawei Han\n",
    "1. Con datos propios\n",
    "1. Aplicando reducción de variables\n",
    "---\n",
    "\n"
   ]
  },
  {
   "cell_type": "code",
   "execution_count": null,
   "metadata": {},
   "outputs": [],
   "source": []
  }
 ],
 "metadata": {
  "language_info": {
   "name": "python"
  }
 },
 "nbformat": 4,
 "nbformat_minor": 2
}
