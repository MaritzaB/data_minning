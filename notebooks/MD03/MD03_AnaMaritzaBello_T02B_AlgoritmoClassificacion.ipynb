{
 "cells": [
  {
   "cell_type": "markdown",
   "metadata": {},
   "source": [
    "Instituto Politécnico Nacional\n",
    "\n",
    "Centro de Investigación en Computación\n",
    "\n",
    "Minería de datos I\n",
    "\n",
    "Programa de clasificación con el algoritmo GINI usando datos propios.\n",
    "\n",
    "Presenta: Ana Maritza Bello\n",
    "\n",
    "---"
   ]
  },
  {
   "cell_type": "code",
   "execution_count": null,
   "metadata": {},
   "outputs": [],
   "source": []
  }
 ],
 "metadata": {
  "language_info": {
   "name": "python"
  }
 },
 "nbformat": 4,
 "nbformat_minor": 2
}
