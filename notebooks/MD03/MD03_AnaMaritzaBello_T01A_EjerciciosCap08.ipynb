{
 "cells": [
  {
   "cell_type": "markdown",
   "metadata": {},
   "source": [
    "Instituto Politécnico Nacional\n",
    "\n",
    "Centro de Investigación en Computación\n",
    "\n",
    "Minería de datos I\n",
    "\n",
    "Ejercicios del capítulo 8.\n",
    "\n",
    "Ejercicios 1 al 16\n",
    "\n",
    "Presenta: Ana Maritza Bello\n",
    "\n",
    "---"
   ]
  },
  {
   "cell_type": "markdown",
   "metadata": {},
   "source": [
    "8.1 Resuma brevemente los pasos principales de la clasificación del árbol de\n",
    "decisiones.\n",
    "\n",
    "**Respuesta:**\n",
    "\n",
    "Los pasos principales de la clasificación del árbol de decisiones son:\n",
    "\n",
    "1. Crear un nodo raíz para el conjunto de entrenamiento. Este nodo raíz contiene\n",
    "   todos los registros de entrenamiento.\n",
    "2. Si todos los registros en el nodo raíz pertenecen a la misma clase, entonces se\n",
    "   etiqueta el nodo con esa clase y se detiene.\n",
    "3. Si el conjunto de atributos es vacío, entonces se etiqueta el nodo con la\n",
    "   clase más común y se detiene.\n",
    "4. De lo contrario, aplicamos la función de selección de atributos para\n",
    "   seleccionar el mejor atributo para dividir los registros. Esta función puede\n",
    "   usar la ganancia de información o el índice Gini para seleccionar la mejor\n",
    "   manera de dividir los registros. El criterio de selección de atributos\n",
    "   consiste en dividir los registros en subconjuntos que sean lo más puros\n",
    "   posible.\n",
    "5. Creamos un nodo de decisión basado en el atributo seleccionado.\n",
    "6. Creamos un subárbol para cada valor del atributo seleccionado y lo aplicamos\n",
    "   a los subconjuntos de registros creados. Es decir, si el atributo seleccionado\n",
    "   es A, entonces el subárbol tendrá tantos nodos como valores tenga A.\n",
    "7. Aplicamos los pasos 1 a 6 para cada nodo del árbol.\n"
   ]
  },
  {
   "cell_type": "markdown",
   "metadata": {},
   "source": [
    "8.2 ¿Por qué es útil la poda de árboles en la inducción de árboles de decisión?\n",
    "¿Cuál es el inconveniente de utilizar un conjunto separado de tuplas para\n",
    "evaluar la poda?\n",
    "\n",
    "**Respuesta:**\n",
    "\n",
    "La poda de árboles es útil en la inducción de árboles de decisión porque nos\n",
    "ayuda a evitar el sobreajuste. Los árboles de decisión tienden a sobreajustarse\n",
    "a los datos de entrenamiento, es decir, el árbol se ajusta bastante al ruido de\n",
    "los datos de entrenamiento y no generaliza bien cuando tenemos nuevos datos. La poda de árboles se puede realizar de dos maneras: \n",
    "\n",
    "1. Poda pre-poda: se detiene la construcción del árbol antes de que se alcance\n",
    "   el ajuste perfecto a los datos de entrenamiento.\n",
    "2. Poda posterior: se construye el árbol completo y luego se poda el árbol\n",
    "    resultante.\n",
    "\n",
    "El inconveniente de utilizar un conjunto separado de tuplas para evaluar la poda\n",
    "podría ser que el conjunto de tuplas de prueba no sea representativo de los\n",
    "datos reales. Por ejemplo, si el conjunto de tuplas de prueba es muy pequeño, la\n",
    "poda puede llevar a decisiones subóptimas. Dicho de otra forma, podríamos estar\n",
    "eliminando nodos que son importantes para la clasificación de los datos reales."
   ]
  },
  {
   "cell_type": "markdown",
   "metadata": {},
   "source": [
    "8.3 Dado un árbol de decisión, tiene la opción de \n",
    "\n",
    "(a) convertir el árbol de decisión en reglas y luego podar las reglas\n",
    "resultantes, \n",
    "\n",
    "(b) podar el árbol de decisión y luego convertir el árbol podado en reglas.\n",
    "\n",
    "¿Qué ventaja tiene (a) sobre (b)?\n",
    "\n",
    "**Respuesta:**\n",
    "\n",
    "La ventaja de (a) sobre (b) es que al convertir el árbol de decisión en reglas,\n",
    "cada regla representa una ruta desde la raíz hasta una hoja del árbol. Por lo\n",
    "que al podar las reglas resultantes, se podan las rutas que no son importantes y\n",
    "se conservan las rutas que son importantes para la clasificación de los datos.\n",
    "\n",
    "Si podaramos primero el árbol y luego lo convirtiéramos en reglas, podríamos\n",
    "perder información importante para la clasificación de los datos."
   ]
  },
  {
   "cell_type": "markdown",
   "metadata": {},
   "source": [
    "8.4 Es importante calcular la complejidad computacional del peor de los casos\n",
    "del algoritmo del árbol de decisión. Dado el conjunto de datos, _D_, el número\n",
    "de atributos, _n_, y el número de tuplas de entrenamiento, _|D|_, muestran que\n",
    "el costo computacional de hacer crecer un árbol es como máximo _n*|D|*log(|D|)_.\n",
    "\n",
    "**Respuesta:**\n",
    "\n",
    "En el peor de los casos, para cada nodo del árbol debemos de evaluar todos los\n",
    "atributos para determinar cuál es el mejor atributo para dividir los registros.\n",
    "Esto implica un costo de _n_ operaciones.\n",
    "\n",
    "Después de seleccionar el mejor atributo, debemos de dividir los registros en\n",
    "subconjuntos. Esto implica un costo de _|D|_ operaciones ya que debemos de\n",
    "recorrer todos los registros.\n",
    "\n",
    "Ya que cada nivel del árbol se reduce a la mitad, el número de niveles del árbol\n",
    "es _log(|D|)_. Por lo que el costo computacional lo obtenemos multiplicando\n",
    "estos tres factores: _n*|D|*log(|D|)_.\n"
   ]
  },
  {
   "cell_type": "markdown",
   "metadata": {},
   "source": [
    "8.5 Dado un conjunto de datos de 5 GB con 50 atributos (cada uno con 100 valores distintos) y 512 MB de memoria principal en su computadora portátil, describa un método eficiente que construya árboles de decisión en conjuntos de datos tan grandes. Justifique su respuesta mediante un cálculo aproximado del uso de su memoria principal."
   ]
  },
  {
   "cell_type": "markdown",
   "metadata": {},
   "source": [
    "8.6 ¿Por qué la clasificación bayesiana ingenua se denomina “ingenua”? Resuma brevemente las ideas principales de la clasificación bayesiana ingenua."
   ]
  },
  {
   "cell_type": "markdown",
   "metadata": {},
   "source": [
    "8.7 La siguiente tabla consta de datos de capacitación de una base de datos de empleados. Los datos se han generalizado. Por ejemplo, “31. . . 35” por edad representa el rango de edad de 31 a 35 años.\n",
    "Para una entrada de fila determinada, el recuento representa el número de tuplas\n",
    "de datos que tienen los valores de departamento, estado, edad y salario\n",
    "indicados en esa fila.\n",
    "\n",
    "Departamento | Estado | Edad | Salario | Recuento\n",
    "--- | --- | --- | --- | ---\n",
    "sales | senior | 31...35 | 46K...50K | 30\n",
    "sales | junior | 26...30 | 26K...30K | 40\n",
    "sales | junior | 31...35 | 31K...35K | 40\n",
    "systems | junior | 21...25 | 46K...50K | 20\n",
    "systems | senior | 31...35 | 66K...70K | 5\n",
    "systems | junior | 26...30 | 46K...50K | 3\n",
    "systems | senior | 41...45 | 66K...70K | 3\n",
    "marketing | senior | 36...40 | 46K...50K | 10\n",
    "marketing | junior | 31...35 | 41K...45K | 4\n",
    "secretary | senior | 46...50 | 36K...40K | 4\n",
    "secretary | junior | 26...30 | 26K...30K | 6\n",
    "\n",
    "Sea el estado el atributo de etiqueta de clase.\n",
    "\n",
    "(a) ¿Cómo modificaría el algoritmo básico del árbol de decisión para tener en cuenta el recuento de cada tupla de datos generalizados (es decir, de cada entrada de fila)?\n",
    "\n",
    "(b) Utilice su algoritmo para construir un árbol de decisión a partir de los datos dados.\n",
    "\n",
    "(c) Dada una tupla de datos que tiene los valores “sistemas”, “26...30” y “46–50K” para los atributos departamento, edad y salario, respectivamente."
   ]
  },
  {
   "cell_type": "markdown",
   "metadata": {},
   "source": [
    "8.8 RainForest es un algoritmo escalable para la inducción de árboles de\n",
    "decisión. Desarrollar un algoritmo de clasificación bayesiano ingenuo y\n",
    "escalable que requiera solo un escaneo de todo el conjunto de datos para la\n",
    "mayoría de las bases de datos. Analice si dicho algoritmo se puede perfeccionar\n",
    "para incorporar un refuerzo que mejore aún más la precisión de su clasificación.\n"
   ]
  },
  {
   "cell_type": "markdown",
   "metadata": {},
   "source": [
    "8.9 Diseñe un método eficiente que realice una clasificación bayesiana ingenua y efectiva sobre un flujo de datos infinito (es decir, puede escanear el flujo de datos solo una vez). Si quisiéramos descubrir la evolución de tales esquemas de clasificación (por ejemplo, comparando el esquema de clasificación actual con esquemas anteriores como el de hace una semana), ¿qué diseño modificado sugeriría?"
   ]
  },
  {
   "cell_type": "markdown",
   "metadata": {},
   "source": [
    "8.10 Demuestre que la precisión es una función de la sensibilidad y la especificidad, es decir, demuestre la ecuación. (8.25)."
   ]
  },
  {
   "cell_type": "markdown",
   "metadata": {},
   "source": [
    "8.11 La media armónica es uno de varios tipos de promedios. El capítulo 2 analizó cómo calcular la media aritmética, que es en lo que la mayoría de la gente suele pensar cuando calcula un promedio. La media armónica, H, de los números reales positivos, _x1, x2,..., xn_, se define como\n",
    "\n",
    "\n",
    "La medida F es la media armónica de precisión y recuperación. Utilice este hecho para derivar la ecuación. (8.28) para F. Además, escriba F_β como una función de verdaderos positivos, falsos negativos y falsos positivos."
   ]
  },
  {
   "cell_type": "markdown",
   "metadata": {},
   "source": [
    "8.12 Las tuplas de datos de la figura 8.25 se ordenan por valor de probabilidad\n",
    "decreciente, según lo devuelto por un clasificador. Para cada tupla, calcule los\n",
    "valores del número de verdaderos positivos (TP), falsos positivos (FP),\n",
    "verdaderos negativos (TN) y falsos negativos (FN). Calcule la tasa de verdaderos\n",
    "positivos (TPR) y la tasa de falsos positivos (FPR). Trazar la curva ROC para\n",
    "los datos.\n",
    "\n",
    "Tupla | Clase | Probabilidad\n",
    "--- | --- | ---\n",
    "1 | P | 0.95\n",
    "2 | N | 0.85\n",
    "3 | P | 0.78\n",
    "4 | P | 0.66\n",
    "5 | N | 0.60\n",
    "6 | P | 0.55\n",
    "7 | N | 0.53\n",
    "8 | N | 0.52\n",
    "9 | N | 0.51\n",
    "10 | P | 0.40\n",
    "\n",
    "Las tuplas están ordenadas en orden decreciente de probabilidad, donde el valor\n",
    "de la probabilidad está dada por un clasificador probabilístico."
   ]
  },
  {
   "cell_type": "markdown",
   "metadata": {},
   "source": [
    "8.13 Es difícil evaluar la precisión de la clasificación cuando los objetos de datos individuales pueden pertenecer a más de una clase a la vez. En tales casos, comente qué criterios usaría para comparar diferentes clasificadores modelados a partir de los mismos datos."
   ]
  },
  {
   "cell_type": "markdown",
   "metadata": {},
   "source": [
    "8.14 Supongamos que queremos seleccionar entre dos modelos de predicción, M1 y M2. Hemos realizado 10 rondas de validación cruzada 10 veces en cada modelo, donde se utiliza la misma partición de datos en la ronda i tanto para M1 como para M2. Las tasas de error obtenidas para M1 son 30,5, 32,2, 20,7, 20,6, 31,0, 41,0, 27,7, 26,0, 21,5, 26,0. Las tasas de error para M2 son 22,4, 14,5, 22,4, 19,6, 20,7, 20,4, 22,1, 19,4, 16,2, 35,0. Comente si un modelo es significativamente mejor que el otro considerando un nivel de significancia del 1%."
   ]
  },
  {
   "cell_type": "markdown",
   "metadata": {},
   "source": [
    "8.15 ¿Qué es el impulso? Indique por qué puede mejorar la precisión de la\n",
    "inducción del árbol de decisiones.\n"
   ]
  },
  {
   "cell_type": "markdown",
   "metadata": {},
   "source": [
    "8.16 Métodos resumidos para abordar el problema del desequilibrio de clases. Supongamos que un banco quiere desarrollar un clasificador que proteja contra transacciones fraudulentas con tarjetas de crédito. Ilustre cómo se puede inducir un clasificador de calidad basándose en un gran conjunto de ejemplos no fraudulentos y un conjunto muy pequeño de casos fraudulentos."
   ]
  }
 ],
 "metadata": {
  "language_info": {
   "name": "python"
  }
 },
 "nbformat": 4,
 "nbformat_minor": 2
}
