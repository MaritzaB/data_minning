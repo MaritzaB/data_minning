{
 "cells": [
  {
   "cell_type": "markdown",
   "metadata": {},
   "source": [
    "Instituto Politécnico Nacional\n",
    "\n",
    "Centro de Investigación en Computación\n",
    "\n",
    "Minería de datos I\n",
    "\n",
    "Ejercicios del capítulo 4.\n",
    "Ejercicios del 1-8, 10, 11 y 14-final.\n",
    "\n",
    "Presenta: Ana Maritza Bello\n",
    "\n",
    "---"
   ]
  },
  {
   "cell_type": "markdown",
   "metadata": {},
   "source": [
    "4.1 Indique por qué, para la integración de múltiples fuentes de información\n",
    "heterogéneas, muchas empresas de la industria prefieren el enfoque basado en\n",
    "actualizaciones (que construye y utiliza almacenes de datos), en lugar del\n",
    "enfoque basado en consultas (que aplica contenedores e integradores). Describa\n",
    "situaciones en las que el enfoque basado en consultas es preferible al enfoque\n",
    "basado en actualizaciones.\n",
    "\n",
    "**Respuesta:**\n",
    "\n",
    "| Enfoque basado en actualizaciones | Enfoque basado en consultas |\n",
    "|:---------------------------------:|:---------------------------:|\n",
    "| Se construye y utiliza almacenes de datos | Se aplican contenedores e integradores |\n",
    "| Se requiere de una gran cantidad de datos | Se requiere de una cantidad de datos pequeña |\n",
    "| Es más rápido | Es más lento |\n",
    "| Requiere de menos recursos | Requiere de más recursos |\n",
    "| Se utiliza cuando existen consultas frecuentes | Se utiliza cuando existen consultas esporádicas |\n",
    "| La base de dato debe de ser integrada y resumida | Las consultas generan una respuesta compleja, que requiere más filtrado e integración |"
   ]
  },
  {
   "cell_type": "markdown",
   "metadata": {},
   "source": [
    "4.2 Compare brevemente los siguientes conceptos. Puede utilizar un ejemplo para\n",
    "explicar su(s) punto(s).\n",
    "\n",
    "1. Esquema de _snowflake_, _fact constellation_, modelo de consulta de Starnet.\n",
    "\n",
    "**Respuesta:**\n",
    "\n",
    "Estos esquemas son enfoques de diseño de bases de datos utilizados en el\n",
    "contexto de data warehousing y modelado de datos multidimensionales para\n",
    "soportar el análisis de datos.\n",
    "\n",
    "| Esquema | Descripción |\n",
    "|:-------:|:------------|\n",
    "| _Snowflake_ | Las tablas dimensionales se normalizan a un mayor nivel, en comparación con el esquema de estrella. El resultado es una estructura en forma de copo de nieve. Dentro de las ventajas incluye el ahorro de espacio de almacenamiento y menor riesgo en la redundancia de los datos. Desventaja: Las consultas suelen ser más complicadas |\n",
    "| _Fact constellation_ | Es un esquema de estrella que contiene múltiples tablas de hechos y las tablas de hechos pueden compartir tablas dimensionales en común |\n",
    "| Modelo de consulta de Starnet | Es un modelo de datos multidimensional que permite a los usuarios navegar por los datos de manera flexible y eficiente. El modelo de consulta de Starnet se basa en el modelo de datos multidimensional y utiliza un modelo de datos de estrella extendida para representar los datos. Cada linea radial representa una dimensión y cada punto a lo largo de la lúnea representa el nivel de la dimensión. |\n",
    "\n",
    "1. Limpieza de datos, transformación de datos, actualización\n",
    "\n",
    "| Concepto | Descripción |\n",
    "|:--------:|:------------|\n",
    "| Limpieza de datos | Es el proceso de detectar y corregir (o eliminar) registros erróneos o inexactos de un conjunto de registros, tabla o base de datos y se realiza en un almacén de datos |\n",
    "| Transformación de datos | Es el proceso de convertir datos de un formato a otro, generalmente de un formato base de datos operacional a un formato unificado del almacén de datos |\n",
    "| Actualización | Es el proceso de actualizar los datos y propagarlos a través de un almacén de datos |\n",
    "\n",
    "\n",
    "1. Cubo impulsado por descubrimiento, cubo multifunción, almacén virtual\n",
    "\n",
    "| Concepto | Descripción |\n",
    "|:--------:|:------------|\n",
    "| Cubo impulsado por descubrimiento | Es una estructura de datos multidimensiona; diseñada para admitir el análisis exploratorio de datos en el contexto de _data warehousing_. Este tipo de cubo se utiliza cuando se necesita explorar datos de manera más libre y flexible, en lugar de seguir patrones predefinidos o realizar análsisi altamente estructurados. Este tipo de curbo tiene las siguientes características: Flexibilidad en la exploración de datos, no se requiere de una definición rigurosa de esquema, admite el describrimiento de tendencias y patrones y tiene interacción en tiempo real. |\n",
    "| Cubo multifunción | Es un cubo que admite múltiples operaciones de análisis de datos, como agregación, clasificación, filtrado, etc. El diseño de los cubos multifunción requiere una cuidadosa planificación y consideración de las necesidades analíticas de múltiples áreas de la organización. |\n",
    "| Almacén virtual | Es un almacén de datos que no almacena datos en un almacén de datos físico, sino que proporciona una vista virtual de los datos desde múltiples fuentes de datos. Otras de las características de este tipo de cubos es el acceso remoto, la escalabilidad sin necesidad de adquirir hardware adicional, facilita la compartición en línea y suelen ser una opción económica para el almacenamiento de los datos en comparación con la adquisición de hardware de almacenamiento físico. |\n"
   ]
  },
  {
   "cell_type": "markdown",
   "metadata": {},
   "source": [
    "4.3 Supongamos que un almacén de datos consta de las tres dimensiones tiempo,\n",
    "médico y paciente, y las dos medidas contar y cobrar, donde cobrar es la tarifa\n",
    "que un médico cobra a un paciente por una visita.\n",
    "\n",
    "1.  Enumere tres clases de esquemas que se utilizan popularmente para modelar\n",
    "    almacenes de datos.\n",
    "\n",
    "**Respuesta:**\n",
    "\n",
    "- Esquema de estrella\n",
    "- Esquema de copo de nieve\n",
    "- Esquema de constelación de hechos\n",
    "\n",
    "1.  Dibuje un diagrama de esquema para el almacén de datos anterior utilizando\n",
    "    una de las clases de esquema enumeradas en (a).\n",
    "\n",
    "![esquema](../images/esquema_medico_paciente.png)\n",
    "\n",
    "1. Comenzando con la base cuboide `[día, médico, paciente]`, ¿qué operaciones OLAP\n",
    "   específicas se deben realizar para enumerar los honorarios totales cobrados\n",
    "   por cada médico en 2010?\n",
    "\n",
    "**Respuesta:**\n",
    "\n",
    "1. Para obtener la misma lista, escriba una consulta SQL asumiendo que los datos\n",
    "   están almacenados en una base de datos relacional con el cargo de la visita\n",
    "   (día, mes, año, médico, hospital, paciente, recuento, cargo).\n",
    "\n",
    "   ```sql\n",
    "    SELECT médico, SUM(cargo)\n",
    "    FROM almacén_de_datos\n",
    "    WHERE año = 2010\n",
    "    GROUP BY médico\n",
    "    ```\n"
   ]
  },
  {
   "cell_type": "markdown",
   "metadata": {},
   "source": [
    "4.4 Supongamos que un almacén de datos para Big University consta de cuatro\n",
    "dimensiones estudiante, curso, semestre e instructor, y dos medidas de conteo y\n",
    "calificación promedio. En el nivel conceptual más bajo (por ejemplo, para una\n",
    "determinada combinación de estudiante, curso, semestre e instructor), la medida\n",
    "de calificación promedio almacena la calificación real del curso del estudiante.\n",
    "En niveles conceptuales superiores, la calificación promedio almacena la\n",
    "calificación promedio para la combinación dada.\n",
    "\n",
    "1. Dibuje un diagrama esquemático de copo de nieve para el almacén de datos.\n",
    "\n",
    "1.  Comenzando con el cuboide base `[estudiante, curso, semestre, instructor]`,\n",
    "    ¿qué operaciones OLAP específicas (por ejemplo, resumen de semestre a año)\n",
    "    debe realizar para enumerar la calificación promedio de los cursos de\n",
    "    informática para cada alumno de Big University?\n",
    "\n",
    "1. Si cada dimensión tiene cinco niveles (incluidos todos), como `\"estudiante <\n",
    "   especialidad < estatus < universidad < todos”`, ¿cuántos cuboides contendrá\n",
    "   este cubo (incluidos los cuboides de base y vértice)?"
   ]
  },
  {
   "cell_type": "markdown",
   "metadata": {},
   "source": [
    "4.5 Supongamos que un almacén de datos consta de las cuatro dimensiones fecha,\n",
    "espectador, ubicación y juego, y las dos medidas contar y cobrar, donde cobrar\n",
    "es la tarifa que paga un espectador cuando ve un partido en una fecha\n",
    "determinada. Los espectadores pueden ser estudiantes, adultos o personas\n",
    "mayores, y cada categoría tiene su propia tarifa de carga.\n",
    "\n",
    "1. Dibuje un diagrama esquemático en estrella para el almacén de datos.\n",
    "\n",
    "1. Comenzando con el cuboide base `[fecha, espectador, ubicación, juego]`, ¿qué\n",
    "   operaciones OLAP específicas debería realizar para enumerar el cargo total\n",
    "   pagado por los estudiantes espectadores en GM Place en 2010?\n",
    "\n",
    "1. La indexación de mapas de bits es útil en el almacenamiento de datos. Tomando\n",
    "   este cubo como ejemplo, analice brevemente las ventajas y problemas de\n",
    "   utilizar una estructura de índice de mapa de bits."
   ]
  },
  {
   "cell_type": "markdown",
   "metadata": {},
   "source": [
    "4.6 Un almacén de datos se puede modelar mediante un esquema en estrella o un esquema en copo de nieve. Describe brevemente las similitudes y diferencias de los dos modelos, para luego analizar sus ventajas y desventajas entre sí. Dé su opinión sobre cuál podría ser más útil empíricamente y exponga las razones de su respuesta."
   ]
  },
  {
   "cell_type": "markdown",
   "metadata": {},
   "source": [
    "4.7 Diseñar un almacén de datos para una oficina meteorológica regional. La oficina meteorológica tiene alrededor de 1.000 sondas, que están repartidas por varios lugares terrestres y oceánicos de la región para recopilar datos meteorológicos básicos, incluida la presión del aire, la temperatura y las precipitaciones a cada hora. Todos los datos se envían a la estación central, que los recopila desde hace más de 10 años. Su diseño debe facilitar consultas eficientes y procesamiento analítico en línea, y derivar patrones climáticos generales en un espacio multidimensional."
   ]
  },
  {
   "cell_type": "markdown",
   "metadata": {},
   "source": [
    "4.8 Una implementación popular de almacén de datos es construir una base de datos multidimensional, conocida como cubo de datos. Desafortunadamente, esto a menudo puede generar una matriz multidimensional enorme, aunque muy escasa.\n",
    "\n",
    "(a) Presente un ejemplo que ilustre un cubo de datos tan grande y disperso.\n",
    "\n",
    "(b) Diseñe un método de implementación que pueda superar elegantemente este problema de matriz dispersa. Tenga en cuenta que debe explicar sus estructuras de datos en detalle y discutir el espacio necesario, así como también cómo recuperar datos de sus estructuras.\n",
    "\n",
    "(c) Modifique su diseño en (b) para manejar actualizaciones de datos incrementales. Da el razonamiento detrás de tu nuevo diseño."
   ]
  },
  {
   "cell_type": "markdown",
   "metadata": {},
   "source": [
    "4.10 Supongamos que una empresa quiere diseñar un almacén de datos para\n",
    "facilitar el análisis de vehículos en movimiento mediante un procesamiento\n",
    "analítico en línea. La empresa registra grandes cantidades de datos de\n",
    "movimiento de automóviles en formato (identificación automática, ubicación,\n",
    "velocidad, hora). Cada Auto ID representa un vehículo asociado con información\n",
    "(por ejemplo, categoría de vehículo, categoría de conductor) y cada ubicación\n",
    "puede estar asociada con una calle de una ciudad. Supongamos que hay un mapa de\n",
    "calles disponible para la ciudad.\n",
    "\n",
    "(a) Diseñar un almacén de datos de este tipo para facilitar un procesamiento\n",
    "analítico en línea eficaz en un espacio multidimensional.\n",
    "\n",
    "(b) Los datos de movimiento pueden contener ruido. Analice cómo desarrollaría un\n",
    "método para descubrir automáticamente registros de datos que probablemente se\n",
    "registraron erróneamente en el repositorio de datos.\n",
    "\n",
    "(c) Los datos sobre movimientos pueden ser escasos. Analice cómo desarrollaría\n",
    "un método que construya un almacén de datos confiable a pesar de la escasez de\n",
    "datos.\n",
    "\n",
    "(d) Si desea conducir de A a B a partir de un momento determinado, analice cómo\n",
    "un sistema puede utilizar los datos de este almacén para encontrar una ruta\n",
    "rápida."
   ]
  },
  {
   "cell_type": "markdown",
   "metadata": {},
   "source": [
    "4.11 La identificación por radiofrecuencia se utiliza comúnmente para rastrear\n",
    "el movimiento de objetos y realizar control de inventario. Un lector RFID puede\n",
    "leer con éxito una etiqueta RFID desde una distancia limitada en cualquier\n",
    "momento programado. Supongamos que una empresa quiere diseñar un almacén de\n",
    "datos para facilitar el análisis de objetos con etiquetas RFID mediante un\n",
    "procesamiento analítico en línea. La empresa registra grandes cantidades de\n",
    "datos RFID en el formato (RFID, en la ubicación, hora) y también tiene\n",
    "información sobre los objetos que llevan la etiqueta RFID, por ejemplo (RFID,\n",
    "nombre del producto, categoría del producto, productor, fecha de producción,\n",
    "precio).\n",
    "\n",
    "(a) Diseñar un almacén de datos para facilitar el registro efectivo y el\n",
    "procesamiento analítico en línea de dichos datos.\n",
    "\n",
    "(b) Los datos RFID pueden contener mucha información redundante. Analice un\n",
    "método que reduzca al máximo la redundancia durante el registro de datos en el\n",
    "almacén de datos RFID.\n",
    "\n",
    "(c) Los datos RFID pueden contener mucho ruido, como registros faltantes e\n",
    "identificaciones mal leídas. Analice un método que limpie eficazmente los datos\n",
    "ruidosos en el almacén de datos RFID.\n",
    "\n",
    "(d) Es posible que desee realizar un procesamiento analítico en línea para\n",
    "determinar cuántos televisores se enviaron desde el puerto marítimo de Los\n",
    "Ángeles a BestBuy en Champaign, Illinois, por mes, marca y rango de precios.\n",
    "Describa cómo se podría hacer esto de manera eficiente si almacenara dichos\n",
    "datos RFID en el almacén.\n",
    "\n",
    "(e) Si un cliente devuelve una jarra de leche y se queja de que se ha echado a\n",
    "perder antes de su fecha de vencimiento, analice cómo puede investigar ese caso\n",
    "en el almacén para descubrir cuál es el problema, ya sea en el envío o en el\n",
    "almacenamiento."
   ]
  },
  {
   "cell_type": "markdown",
   "metadata": {},
   "source": [
    "4.14 En la tecnología de almacenamiento de datos, se puede implementar una vista multidimensional mediante una técnica de base de datos relacional (ROLAP), mediante una técnica de base de datos multidimensional (MOLAP) o mediante una técnica de base de datos híbrida (HOLAP).\n",
    "\n",
    "(a) Describa brevemente cada técnica de implementación.\n",
    "\n",
    "(b) Para cada técnica, explique cómo se puede implementar cada una de las\n",
    "siguientes funciones:\n",
    "\n",
    "    i. La generación de un almacén de datos (incluida la agregación)\n",
    "    ii. Enrollar\n",
    "    iii. Profundizar\n",
    "    iv. Actualización incremental\n",
    "\n",
    "(c) ¿Qué técnicas de implementación prefiere y por qué?"
   ]
  },
  {
   "cell_type": "markdown",
   "metadata": {},
   "source": [
    "4.15 Supongamos que un almacén de datos contiene 20 dimensiones, cada una con aproximadamente cinco niveles de granularidad.\n",
    "\n",
    "(a) Los usuarios están interesados principalmente en cuatro dimensiones\n",
    "particulares, cada una de las cuales tiene tres niveles a los que se accede con\n",
    "frecuencia para avanzar y profundizar. ¿Cómo diseñaría una estructura de cubo de\n",
    "datos para respaldar esta preferencia de manera eficiente?\n",
    "\n",
    "(b) En ocasiones, es posible que un usuario desee explorar el cubo hasta los\n",
    "datos sin procesar para una o dos dimensiones particulares. ¿Cómo apoyaría esta\n",
    "característica?"
   ]
  },
  {
   "cell_type": "markdown",
   "metadata": {},
   "source": [
    "4.16 Un cubo de datos, C, tiene n dimensiones, y cada dimensión tiene exactamente p valores distintos en el cuboide base. Supongamos que no hay jerarquías de conceptos asociadas con las dimensiones.\n",
    "\n",
    "(a) ¿Cuál es el número máximo de células posibles en la base del cuboides?\n",
    "\n",
    "(b) ¿Cuál es el número mínimo de células posible en la base del cuboides?\n",
    "\n",
    "(c) ¿Cuál es el número máximo de celdas posibles (incluidas tanto las celdas base como las celdas agregadas) en el cubo de datos C?\n",
    "\n",
    "(d) ¿Cuál es el número mínimo de celdas posible en C?"
   ]
  },
  {
   "cell_type": "markdown",
   "metadata": {},
   "source": [
    "4.17 ¿Cuáles son las diferencias entre los tres tipos principales de uso del almacén de datos: procesamiento de información, procesamiento analítico y\n",
    "extracción de datos? Analice la motivación detrás de la minería OLAP (OLAM)."
   ]
  }
 ],
 "metadata": {
  "kernelspec": {
   "display_name": "Python 3 (ipykernel)",
   "language": "python",
   "name": "python3"
  },
  "orig_nbformat": 4
 },
 "nbformat": 4,
 "nbformat_minor": 2
}
