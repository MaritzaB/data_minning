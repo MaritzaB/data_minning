{
 "cells": [
  {
   "cell_type": "markdown",
   "metadata": {},
   "source": [
    "Instituto Politécnico Nacional\n",
    "\n",
    "Centro de Investigación en Computación\n",
    "\n",
    "Minería de datos I\n",
    "\n",
    "Ejercicios del capítulo 5.\n",
    "Ejercicios del 1,3,4,5,6,8,10 y 17.\n",
    "\n",
    "Presenta: Ana Maritza Bello\n",
    "\n",
    "---"
   ]
  },
  {
   "cell_type": "markdown",
   "metadata": {},
   "source": [
    "1.Supongamos que un cuboide base de 10-D contiene sólo tres celdas de base: _(1)\n",
    "(a1, d2, d3, d4,..., d9, d10), (2) (d1, b2, d3, d4,... , d9 , d10 )_ y _(3) (d1\n",
    ", d2 , c3 , d4 , . . . , d9 , d10 )_, donde _a1 6=d1 , b2 6= d2 y c3 6= d3_. La\n",
    "medida del cubo es `count()`.\n",
    "\n",
    "(a) ¿Cuántos cuboides no vacíos contendrá un cubo de datos completo?\n",
    "\n",
    "(b) ¿Cuántas celdas agregadas no vacías (es decir, no base) contendrá un cubo\n",
    "completo?\n",
    "\n",
    "(c) ¿Cuántas celdas agregadas no vacías contendrá un cubo de iceberg si la\n",
    "condición del cubo de iceberg es `count ≥ 2`?\n",
    "\n",
    "(d) Una celda, _c_, es una celda cerrada si no existe ninguna celda, _d_, de manera que _d_ es una especialización de la celda _c_ (es decir, _d_ se obtiene reemplazando _a ∗_ en _c_ por un valor que no es _∗_) y _d_ tiene el mismo valor de medida que _c_. Un cubo cerrado es un cubo de datos que consta únicamente de celdas cerradas. ¿Cuántas celdas cerradas hay en el cubo completo?"
   ]
  },
  {
   "cell_type": "markdown",
   "metadata": {},
   "source": [
    "5.3 Supongamos que un cubo de datos, _C_, tiene _D_ dimensiones y el cuboide\n",
    "base contiene _k_ tuplas distintas.\n",
    "\n",
    "(a) Presente una fórmula para calcular el número mínimo de celdas que puede\n",
    "contener el cubo _C_.\n",
    "\n",
    "(b) Presente una fórmula para calcular el número máximo de celdas que _C_ puede\n",
    "contener.\n",
    "\n",
    "(c) Responda los incisos (a) y (b) como si el conteo en cada celda del cubo\n",
    "debiera ser no menor que un umbral, _v_.\n",
    "\n",
    "(d) Responda las partes (a) y (b) como si solo se consideraran celdas cerradas (con el umbral mínimo de conteo, _v_)."
   ]
  },
  {
   "cell_type": "markdown",
   "metadata": {},
   "source": [
    "5.4 Supongamos que un cuboide base tiene tres dimensiones, _A, B, C,_ con el siguiente número de celdas: `|A| = 1.000.000`, `|B| = 100` y `|C| = 1000`. Supongamos que cada dimensión se divide uniformemente en 10 porciones para _fragmentar_.\n",
    "\n",
    "(a) Suponiendo que cada dimensión tiene un solo nivel, dibuje la red completa del cubo.\n",
    "\n",
    "(b) Si cada celda del cubo almacena una medida con cuatro bytes, ¿cuál es el tamaño total del cubo calculado si el cubo es _denso_?\n",
    "\n",
    "(c) Indique el orden para calcular los fragmentos del cubo que requieren la menor cantidad de espacio y calcule la cantidad total de espacio de memoria principal necesaria para calcular los planos _2-D_."
   ]
  },
  {
   "cell_type": "markdown",
   "metadata": {},
   "source": [
    "5.5 A menudo, el valor de `count` agregado de muchas celdas en un gran cuboide de datos es cero, lo que da como resultado una matriz multidimensional enorme, aunque escasa.\n",
    "\n",
    "(a) Diseñe un método de implementación que pueda superar elegantemente este problema de matriz dispersa. Tenga en cuenta que debe explicar sus estructuras de datos en detalle y discutir el espacio necesario, así como también cómo recuperar datos de sus estructuras.\n",
    "\n",
    "(b) Modifique su diseño en (a) para manejar actualizaciones de datos incrementales. Da el razonamiento detrás de tu nuevo diseño."
   ]
  },
  {
   "cell_type": "markdown",
   "metadata": {},
   "source": [
    "5.6 Al calcular un cubo de alta dimensionalidad, nos encontramos con la _maldición inherente del problema de dimensionalidad_: existe una gran cantidad de subconjuntos de combinaciones de dimensiones.\n",
    "\n",
    "(a) Suponga que hay sólo dos celdas base, `{(a1, a2, a3,..., a100)` y `(a1, a2, b3,..., b100)}`, en un cuboide de base de `100-D`. Calcule el número de celdas agregadas no vacías. Comente el espacio de almacenamiento y el tiempo necesarios para calcular estas celdas.\n",
    "\n",
    "(b) Supongamos que vamos a calcular un cubo de iceberg a partir de (a). Si el número mínimo de soportes en la condición del iceberg es 2, ¿cuántas celdas agregadas habrá en el cubo del iceberg? Muestra las celdas.\n",
    "\n",
    "(c) La introducción de cubos de iceberg reducirá la carga de calcular celdas agregadas triviales en un cubo de datos. Sin embargo, incluso con cubos de iceberg, podríamos terminar teniendo que calcular una gran cantidad de celdas triviales y poco interesantes (es decir, con recuentos pequeños). Supongamos que una base de datos tiene **20** tuplas que se asignan (o cubren) las dos siguientes celdas base en un cuboide de base `100-D`, cada una con un recuento de celdas de 10: `{(a1, a2, a3,..., a100): 10, (a1, a2, b3,..., b100): 10}`.\n",
    "\n",
    "i. Sea el soporte mínimo **10**. ¿Cuántas celdas agregadas distintas habrá como las siguientes: `{(a1, a2, a3, a4,..., a99, ∗): 10,. . . , (a1 , a2 , ∗ , a4 , . . . , a99 , a100 ) : 10, . . . , (a1 , a2 , a3 , ∗ , . . . , ∗ , ∗ ) : 10}`?\n",
    "\n",
    "ii. Si ignoramos todas las celdas agregadas que se pueden obtener reemplazando algunas constantes con _*_ mientras mantenemos el mismo valor de medida, ¿cuántas celdas distintas quedan? ¿Cuáles son las celdas?"
   ]
  },
  {
   "cell_type": "markdown",
   "metadata": {},
   "source": [
    "5.8 Supongamos que queremos calcular un cubo de iceberg para las dimensiones *A, B, C, D*, donde deseamos materializar todas las celdas que satisfacen un recuento mínimo de soporte de al menos _v_, y donde _cardinalidad(A) < cardinalidad(B) < cardinalidad(C) < cardinalidad(D)_. Muestre el árbol de procesamiento *BUC* (que muestra el orden en el que el algoritmo *BUC* explora la red de un cubo de datos, comenzando por todos) para la construcción de este cubo iceberg."
   ]
  },
  {
   "cell_type": "markdown",
   "metadata": {},
   "source": [
    "5.10 Un almacén de datos de vuelo para un agente de viajes consta de seis dimensiones: *viajero, salida (ciudad), hora de salida, llegada, hora de llegada y vuelo*; y dos medidas: `count()` y `avg_fare()`, donde `avg_fare()` almacena la tarifa concreta en el nivel más bajo pero la tarifa promedio en otros niveles.\n",
    "\n",
    "(a) Suponga que el cubo está completamente materializado. Comenzando con el *cuboide base* `[viajero, salida, hora de salida, llegada, hora de llegada, vuelo]`, ¿qué operaciones OLAP específicas (por ejemplo, vuelo acumulado a aerolínea) se deben realizar para enumerar la tarifa promedio por mes para cada viajero de negocios que vuela con American Airlines _(AA)_ desde Los Ángeles en 2009?\n",
    "\n",
    "(b) Supongamos que queremos calcular un cubo de datos donde la condición es que el número mínimo de registros sea 10 y la tarifa promedio sea superior a $500. Describa un método eficiente de cálculo de cubos (basado en el sentido común sobre la distribución de datos de vuelo)."
   ]
  },
  {
   "cell_type": "markdown",
   "metadata": {},
   "source": [
    "5.17 La exploración de cubos basada en el *descubrimiento* es una forma deseable\n",
    "de marcar puntos interesantes entre un gran número de celdas en un cubo de\n",
    "datos. Los usuarios individuales pueden tener diferentes puntos de vista sobre\n",
    "si un punto debe considerarse lo suficientemente interesante como para marcarlo.\n",
    "Supongamos que uno desea marcar aquellos objetos cuyo valor absoluto de\n",
    "*puntuación z (z score)* es superior a 2 en cada fila y columna en un plano\n",
    "dimensional `d`.\n",
    "\n",
    "(a) Obtenga un método de cálculo eficiente para identificar dichos puntos durante el cálculo del cubo de datos.\n",
    "\n",
    "(b) Suponga que un cubo parcialmente materializado tiene cuboides dimensionales\n",
    "*(d − 1)* y *(d + 1)* materializados, pero no el dimensional *d*.\n",
    "Derive un método eficiente para marcar aquellas celdas *(d − 1)* con hijos\n",
    "dimensionales *d* que contienen dichos puntos marcados."
   ]
  }
 ],
 "metadata": {
  "language_info": {
   "name": "python"
  }
 },
 "nbformat": 4,
 "nbformat_minor": 2
}
